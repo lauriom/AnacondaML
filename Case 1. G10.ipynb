{
 "cells": [
  {
   "cell_type": "markdown",
   "id": "84d42c72-f82d-45c9-bd41-315e46aeb01d",
   "metadata": {},
   "source": [
    "# Case 1. Template\n",
    "**Neural Networks for Machine Learning Applications**<br>\n",
    "20.01.2022<br>\n",
    "G10 Lauri.M & Jesse.J<br>\n",
    "https://github.com/lauriom/AnacondaML <br>\n",
    "Metropolia University of Applied Sciences"
   ]
  },
  {
   "cell_type": "markdown",
   "id": "cb1318f7-7ad8-4794-9f71-21446af714f2",
   "metadata": {},
   "source": [
    "## 1. Introduction\n",
    "\n",
    "The purpose of this notebook is to create a neural network to predict hearth attacks based on kaggle survey data"
   ]
  },
  {
   "cell_type": "markdown",
   "id": "798f751a-0465-4fda-89a9-2779687e7f64",
   "metadata": {},
   "source": [
    "## 2. Setup\n",
    "\n",
    "The following libraries and functions were used"
   ]
  },
  {
   "cell_type": "code",
   "execution_count": 1,
   "id": "4f6b4744-043c-4275-ba5e-c25cbfa9d066",
   "metadata": {
    "pycharm": {
     "name": "#%%\n"
    }
   },
   "outputs": [
    {
     "name": "stdout",
     "output_type": "stream",
     "text": [
      "Populating the interactive namespace from numpy and matplotlib\n",
      "tensorflow version: 2.7.0\n",
      "pandas version: 1.3.5\n",
      "seaborn version: 0.11.2\n"
     ]
    }
   ],
   "source": [
    "%pylab inline\n",
    "import time\n",
    "import pandas as pd\n",
    "import seaborn as sns\n",
    "import tensorflow as tf\n",
    "from sklearn.metrics import classification_report, confusion_matrix\n",
    "from sklearn.model_selection import train_test_split\n",
    "from tensorflow.keras import models, layers, losses, metrics, optimizers\n",
    "from sklearn.utils import resample\n",
    "\n",
    "print(f'tensorflow version: {tf.__version__}')\n",
    "print(f'pandas version: {pd.__version__}')\n",
    "print(f'seaborn version: {sns.__version__}')"
   ]
  },
  {
   "cell_type": "markdown",
   "id": "5c975623-3a9b-4bf9-847e-4a2c0f0bd0c3",
   "metadata": {},
   "source": [
    "## 3. Dataset"
   ]
  },
  {
   "cell_type": "code",
   "execution_count": 2,
   "id": "86c36f2f-b33c-478a-9ab5-19757a9bc82f",
   "metadata": {},
   "outputs": [],
   "source": [
    "file = \"http://users.metropolia.fi/~jessejy/NeuralNetwork/heart_disease_health_indicators_BRFSS2015.csv\"\n",
    "#csv downloaded to Jesses metropolia webpage\n",
    "df = pd.read_csv(file, na_values = '?', on_bad_lines='skip')"
   ]
  },
  {
   "cell_type": "code",
   "execution_count": 3,
   "id": "34cb4ca3",
   "metadata": {
    "collapsed": false,
    "pycharm": {
     "name": "#%%\n"
    }
   },
   "outputs": [
    {
     "data": {
      "text/plain": "        HeartDiseaseorAttack  HighBP  HighChol  CholCheck   BMI  Smoker  \\\n253675                   0.0     1.0       1.0        1.0  45.0     0.0   \n253676                   0.0     1.0       1.0        1.0  18.0     0.0   \n253677                   0.0     0.0       0.0        1.0  28.0     0.0   \n253678                   0.0     1.0       0.0        1.0  23.0     0.0   \n253679                   1.0     1.0       1.0        1.0  25.0     0.0   \n\n        Stroke  PhysActivity  Fruits  Veggies  ...  M21  M22  M23  M24  M25  \\\n253675     0.0           0.0     1.0      1.0  ...  0.0  0.0  0.0  0.0  0.0   \n253676     0.0           0.0     0.0      0.0  ...  0.0  0.0  0.0  0.0  0.0   \n253677     0.0           1.0     1.0      0.0  ...  0.0  0.0  0.0  0.0  0.0   \n253678     0.0           0.0     1.0      1.0  ...  0.0  0.0  0.0  0.0  0.0   \n253679     0.0           1.0     1.0      0.0  ...  0.0  0.0  0.0  0.0  0.0   \n\n        M26  M27  M28  M29  M30  \n253675  0.0  0.0  0.0  0.0  0.0  \n253676  0.0  0.0  0.0  0.0  0.0  \n253677  0.0  0.0  0.0  0.0  0.0  \n253678  0.0  0.0  0.0  0.0  0.0  \n253679  0.0  0.0  0.0  0.0  0.0  \n\n[5 rows x 98 columns]",
      "text/html": "<div>\n<style scoped>\n    .dataframe tbody tr th:only-of-type {\n        vertical-align: middle;\n    }\n\n    .dataframe tbody tr th {\n        vertical-align: top;\n    }\n\n    .dataframe thead th {\n        text-align: right;\n    }\n</style>\n<table border=\"1\" class=\"dataframe\">\n  <thead>\n    <tr style=\"text-align: right;\">\n      <th></th>\n      <th>HeartDiseaseorAttack</th>\n      <th>HighBP</th>\n      <th>HighChol</th>\n      <th>CholCheck</th>\n      <th>BMI</th>\n      <th>Smoker</th>\n      <th>Stroke</th>\n      <th>PhysActivity</th>\n      <th>Fruits</th>\n      <th>Veggies</th>\n      <th>...</th>\n      <th>M21</th>\n      <th>M22</th>\n      <th>M23</th>\n      <th>M24</th>\n      <th>M25</th>\n      <th>M26</th>\n      <th>M27</th>\n      <th>M28</th>\n      <th>M29</th>\n      <th>M30</th>\n    </tr>\n  </thead>\n  <tbody>\n    <tr>\n      <th>253675</th>\n      <td>0.0</td>\n      <td>1.0</td>\n      <td>1.0</td>\n      <td>1.0</td>\n      <td>45.0</td>\n      <td>0.0</td>\n      <td>0.0</td>\n      <td>0.0</td>\n      <td>1.0</td>\n      <td>1.0</td>\n      <td>...</td>\n      <td>0.0</td>\n      <td>0.0</td>\n      <td>0.0</td>\n      <td>0.0</td>\n      <td>0.0</td>\n      <td>0.0</td>\n      <td>0.0</td>\n      <td>0.0</td>\n      <td>0.0</td>\n      <td>0.0</td>\n    </tr>\n    <tr>\n      <th>253676</th>\n      <td>0.0</td>\n      <td>1.0</td>\n      <td>1.0</td>\n      <td>1.0</td>\n      <td>18.0</td>\n      <td>0.0</td>\n      <td>0.0</td>\n      <td>0.0</td>\n      <td>0.0</td>\n      <td>0.0</td>\n      <td>...</td>\n      <td>0.0</td>\n      <td>0.0</td>\n      <td>0.0</td>\n      <td>0.0</td>\n      <td>0.0</td>\n      <td>0.0</td>\n      <td>0.0</td>\n      <td>0.0</td>\n      <td>0.0</td>\n      <td>0.0</td>\n    </tr>\n    <tr>\n      <th>253677</th>\n      <td>0.0</td>\n      <td>0.0</td>\n      <td>0.0</td>\n      <td>1.0</td>\n      <td>28.0</td>\n      <td>0.0</td>\n      <td>0.0</td>\n      <td>1.0</td>\n      <td>1.0</td>\n      <td>0.0</td>\n      <td>...</td>\n      <td>0.0</td>\n      <td>0.0</td>\n      <td>0.0</td>\n      <td>0.0</td>\n      <td>0.0</td>\n      <td>0.0</td>\n      <td>0.0</td>\n      <td>0.0</td>\n      <td>0.0</td>\n      <td>0.0</td>\n    </tr>\n    <tr>\n      <th>253678</th>\n      <td>0.0</td>\n      <td>1.0</td>\n      <td>0.0</td>\n      <td>1.0</td>\n      <td>23.0</td>\n      <td>0.0</td>\n      <td>0.0</td>\n      <td>0.0</td>\n      <td>1.0</td>\n      <td>1.0</td>\n      <td>...</td>\n      <td>0.0</td>\n      <td>0.0</td>\n      <td>0.0</td>\n      <td>0.0</td>\n      <td>0.0</td>\n      <td>0.0</td>\n      <td>0.0</td>\n      <td>0.0</td>\n      <td>0.0</td>\n      <td>0.0</td>\n    </tr>\n    <tr>\n      <th>253679</th>\n      <td>1.0</td>\n      <td>1.0</td>\n      <td>1.0</td>\n      <td>1.0</td>\n      <td>25.0</td>\n      <td>0.0</td>\n      <td>0.0</td>\n      <td>1.0</td>\n      <td>1.0</td>\n      <td>0.0</td>\n      <td>...</td>\n      <td>0.0</td>\n      <td>0.0</td>\n      <td>0.0</td>\n      <td>0.0</td>\n      <td>0.0</td>\n      <td>0.0</td>\n      <td>0.0</td>\n      <td>0.0</td>\n      <td>0.0</td>\n      <td>0.0</td>\n    </tr>\n  </tbody>\n</table>\n<p>5 rows × 98 columns</p>\n</div>"
     },
     "execution_count": 3,
     "metadata": {},
     "output_type": "execute_result"
    }
   ],
   "source": [
    "#onehotting variables added 2% accuracy\n",
    "#onehot diabetes types\n",
    "holder = pd.DataFrame(tf.one_hot(df['Diabetes'], 3).numpy(), columns = ['no Diab', 'type1 Diab', 'type2 Diab'])\n",
    "del df['Diabetes']\n",
    "df = pd.concat([df.reset_index(drop=True),holder.reset_index(drop=True)], axis=1)\n",
    "\n",
    "#onehot GenHlth\n",
    "holder = pd.DataFrame(tf.one_hot(df['GenHlth'], 5).numpy(), columns = ['bad', 'poor', 'satisfactory', \"good\", \"excelent\"])\n",
    "del df['GenHlth']\n",
    "df = pd.concat([df.reset_index(drop=True),holder.reset_index(drop=True)], axis=1)\n",
    "\n",
    "#onehot income\n",
    "holder = pd.DataFrame(tf.one_hot(df['Income'], 8).numpy(), columns = ['I1', 'I2', 'I3', \"I4\", \"I5\", \"I6\", \"I7\", \"I8\"])\n",
    "del df['Income']\n",
    "df = pd.concat([df.reset_index(drop=True),holder.reset_index(drop=True)], axis=1)\n",
    "\n",
    "#onehot education\n",
    "holder = pd.DataFrame(tf.one_hot(df['Education'], 6).numpy(), columns = ['E1', 'E2', 'E3', \"E4\", \"E5\", \"E6\"])\n",
    "del df['Education']\n",
    "df = pd.concat([df.reset_index(drop=True),holder.reset_index(drop=True)], axis=1)\n",
    "\n",
    "#onehot physHealt\n",
    "holder = pd.DataFrame(tf.one_hot(df['PhysHlth'], 30).numpy(), columns = (['H' + str(x) for x in range(1,31)]))\n",
    "del df['PhysHlth']\n",
    "df = pd.concat([df.reset_index(drop=True),holder.reset_index(drop=True)], axis=1)\n",
    "\n",
    "#onehot physHealth\n",
    "holder = pd.DataFrame(tf.one_hot(df['MentHlth'], 30).numpy(), columns = (['M' + str(x) for x in range(1,31)]))\n",
    "del df['MentHlth']\n",
    "df = pd.concat([df.reset_index(drop=True),holder.reset_index(drop=True)], axis=1)\n",
    "\n",
    "df.tail()"
   ]
  },
  {
   "cell_type": "markdown",
   "id": "39090124-337a-46f5-9f42-cd512f6878e6",
   "metadata": {},
   "source": [
    "## 4. Preprocessing"
   ]
  },
  {
   "cell_type": "code",
   "execution_count": 4,
   "id": "a55a5931-2e87-456d-b597-b11440fea6d2",
   "metadata": {},
   "outputs": [
    {
     "name": "stdout",
     "output_type": "stream",
     "text": [
      "(229787, 98)\n",
      "0.0    24000\n",
      "1.0    24000\n",
      "Name: HeartDiseaseorAttack, dtype: int64\n"
     ]
    }
   ],
   "source": [
    "# Balancing the data\n",
    "\n",
    "df_majority = df[df['HeartDiseaseorAttack'] == 0.0]\n",
    "df_minority = df[df['HeartDiseaseorAttack'] == 1.0]\n",
    "print(df_majority.shape)\n",
    "\n",
    "# Upsample minority class\n",
    "df_minority_upsampled = resample(df_minority,\n",
    "                                 replace=True,     # sample with replacement\n",
    "                                 n_samples=24000,    # to match average class\n",
    "                                 random_state=42) # reproducible results\n",
    "\n",
    "# Downsample majority class\n",
    "df_majority_downsampled = resample(df_majority,\n",
    "                                 replace=False,    # sample without replacement\n",
    "                                 n_samples=24000,     # to match average class\n",
    "                                 random_state=42) # reproducible results\n",
    "\n",
    "# Combine majority class with upsampled minority class\n",
    "df_upsampled = pd.concat([df_majority_downsampled, df_minority_upsampled])\n",
    "print(df_upsampled['HeartDiseaseorAttack'].value_counts())\n",
    "\n",
    "#Define the dependent variable that needs to be predicted (labels)\n",
    "\n",
    "labels = df_upsampled['HeartDiseaseorAttack']\n",
    "features = df_upsampled.drop('HeartDiseaseorAttack', axis = 1)\n",
    "features.fillna(0, inplace = True)"
   ]
  },
  {
   "cell_type": "code",
   "execution_count": 5,
   "id": "73dd1f2b",
   "metadata": {
    "collapsed": false,
    "pycharm": {
     "name": "#%%\n"
    }
   },
   "outputs": [
    {
     "data": {
      "text/plain": "((33600, 97), (14400, 97))"
     },
     "execution_count": 5,
     "metadata": {},
     "output_type": "execute_result"
    }
   ],
   "source": [
    "from numpy import shape\n",
    "\n",
    "\n",
    "labels = 1.0*(labels > 0)\n",
    "# 70 15 15 trait test validation split, test val split done later\n",
    "train_features, test_features, train_labels, test_labels = train_test_split(features, labels, test_size=0.3, random_state=1)\n",
    "shape(train_features), shape(test_features)"
   ]
  },
  {
   "cell_type": "markdown",
   "id": "9b381258-ac86-4c98-b563-e6f7fcc00ea4",
   "metadata": {},
   "source": [
    "## 5. Modeling"
   ]
  },
  {
   "cell_type": "code",
   "execution_count": 6,
   "id": "8361c731-2489-4b95-83b2-3e305bfc3564",
   "metadata": {},
   "outputs": [
    {
     "name": "stdout",
     "output_type": "stream",
     "text": [
      "Model: \"sequential\"\n",
      "_________________________________________________________________\n",
      " Layer (type)                Output Shape              Param #   \n",
      "=================================================================\n",
      " normalization (Normalizatio  (None, 97)               195       \n",
      " n)                                                              \n",
      "                                                                 \n",
      " dense (Dense)               (None, 98)                9604      \n",
      "                                                                 \n",
      " dropout (Dropout)           (None, 98)                0         \n",
      "                                                                 \n",
      " dense_1 (Dense)             (None, 98)                9702      \n",
      "                                                                 \n",
      " dropout_1 (Dropout)         (None, 98)                0         \n",
      "                                                                 \n",
      " dense_2 (Dense)             (None, 98)                9702      \n",
      "                                                                 \n",
      " dropout_2 (Dropout)         (None, 98)                0         \n",
      "                                                                 \n",
      " dense_3 (Dense)             (None, 98)                9702      \n",
      "                                                                 \n",
      " dropout_3 (Dropout)         (None, 98)                0         \n",
      "                                                                 \n",
      " dense_4 (Dense)             (None, 98)                9702      \n",
      "                                                                 \n",
      " dropout_4 (Dropout)         (None, 98)                0         \n",
      "                                                                 \n",
      " dense_5 (Dense)             (None, 1)                 99        \n",
      "                                                                 \n",
      "=================================================================\n",
      "Total params: 48,706\n",
      "Trainable params: 48,511\n",
      "Non-trainable params: 195\n",
      "_________________________________________________________________\n"
     ]
    }
   ],
   "source": [
    "from keras import regularizers\n",
    "\n",
    "normalize = layers.Normalization()\n",
    "normalize.adapt(train_features)\n",
    "\n",
    "def make_model():\n",
    "    model = models.Sequential([\n",
    "        normalize,\n",
    "        layers.Dense(98, activation = 'relu'), # 98 is the ammount of onehotted variables\n",
    "        layers.Dropout(0.2), #Dropout is to correct overfitting\n",
    "        layers.Dense(98, activation = 'relu'),\n",
    "        layers.Dropout(0.2),\n",
    "        layers.Dense(98, activation = 'relu'),\n",
    "        layers.Dropout(0.2),\n",
    "        layers.Dense(98, activation = 'relu'),\n",
    "        layers.Dropout(0.2),\n",
    "        layers.Dense(98, activation = 'relu'),\n",
    "        layers.Dropout(0.2),\n",
    "        layers.Dense(1, activation = 'sigmoid')\n",
    "    ])\n",
    "\n",
    "    model.compile(\n",
    "        optimizer = optimizers.RMSprop(),\n",
    "        loss = losses.BinaryCrossentropy(),\n",
    "        metrics = metrics.BinaryAccuracy(name = 'acc')\n",
    "    )\n",
    "\n",
    "    return model\n",
    "\n",
    "model = make_model()\n",
    "model.summary()"
   ]
  },
  {
   "cell_type": "markdown",
   "id": "0d488583-a8e6-4573-8e4e-65408edaf3e4",
   "metadata": {},
   "source": [
    "## 6. Training"
   ]
  },
  {
   "cell_type": "markdown",
   "id": "7e9f241c",
   "metadata": {
    "collapsed": false
   },
   "source": []
  },
  {
   "cell_type": "code",
   "execution_count": 7,
   "id": "3d7603f1-d109-4246-852d-596311a9b855",
   "metadata": {},
   "outputs": [
    {
     "name": "stdout",
     "output_type": "stream",
     "text": [
      "Total elapsed time 100.23 s and 1.002 s/epoch\n"
     ]
    }
   ],
   "source": [
    "# With 20 epochs and batch size 128 the models fitting is prety quick at 12.96 seconds (approximate depends on computer power)\n",
    "EPOCHS = 100\n",
    "\n",
    "t0 = time.time()\n",
    "r = model.fit(\n",
    "    train_features,\n",
    "    train_labels,\n",
    "    validation_split=0.5,\n",
    "    epochs = EPOCHS,\n",
    "    batch_size = 128,\n",
    "    verbose = 0,\n",
    "    )\n",
    "\n",
    "t1 = time.time()\n",
    "etime = t1 - t0\n",
    "print(f'Total elapsed time {etime:.2f} s and {etime/EPOCHS:.3f} s/epoch')"
   ]
  },
  {
   "cell_type": "markdown",
   "id": "c042a705-6922-4ad9-af15-5832b993e76c",
   "metadata": {},
   "source": [
    "## 7. Performance and evaluation"
   ]
  },
  {
   "cell_type": "code",
   "execution_count": 8,
   "id": "d1cf3e35-4412-499f-a3a5-7aa820a45add",
   "metadata": {},
   "outputs": [
    {
     "data": {
      "text/plain": "<Figure size 432x288 with 2 Axes>",
      "image/png": "[encoded data removed]"
     },
     "metadata": {
      "needs_background": "light"
     },
     "output_type": "display_data"
    }
   ],
   "source": [
    "# Plots for loss and accuracy\n",
    "from matplotlib.pyplot import subplot, plot, grid, ylabel, xlabel, show\n",
    "\n",
    "epochs = r.epoch\n",
    "loss = r.history['loss']\n",
    "acc = r.history['acc']\n",
    "\n",
    "subplot(2, 1, 1)\n",
    "plot(epochs, loss)\n",
    "grid()\n",
    "ylabel('Loss')\n",
    "\n",
    "subplot(2, 1, 2)\n",
    "plot(epochs, acc)\n",
    "grid()\n",
    "ylabel('Accuracy')\n",
    "xlabel('Epoch')\n",
    "show()"
   ]
  },
  {
   "cell_type": "code",
   "execution_count": 9,
   "id": "184764dc",
   "metadata": {
    "collapsed": false,
    "pycharm": {
     "name": "#%%\n"
    }
   },
   "outputs": [
    {
     "name": "stdout",
     "output_type": "stream",
     "text": [
      "Training loss = 0.347\n",
      "Training accuracy = 0.851\n"
     ]
    }
   ],
   "source": [
    "# Training loss and accuracy\n",
    "print(f'Training loss = {loss[-1]:.3f}')\n",
    "print(f'Training accuracy = {acc[-1]:.3f}')"
   ]
  },
  {
   "cell_type": "code",
   "execution_count": 10,
   "id": "30de21a4",
   "metadata": {
    "collapsed": false,
    "pycharm": {
     "name": "#%%\n"
    }
   },
   "outputs": [
    {
     "name": "stdout",
     "output_type": "stream",
     "text": [
      "[[13858  2912]\n",
      " [ 2617 14213]]\n"
     ]
    }
   ],
   "source": [
    "# Confusion matrix without in plain text format\n",
    "predictions = model.predict(train_features)\n",
    "pred_labels = 1.0*(predictions >= 0.5)\n",
    "cm = confusion_matrix(train_labels, pred_labels)\n",
    "print(cm)"
   ]
  },
  {
   "cell_type": "code",
   "execution_count": 11,
   "id": "54f3a8f2",
   "metadata": {
    "collapsed": false,
    "pycharm": {
     "name": "#%%\n"
    }
   },
   "outputs": [
    {
     "data": {
      "text/plain": "<AxesSubplot:>"
     },
     "execution_count": 11,
     "metadata": {},
     "output_type": "execute_result"
    },
    {
     "data": {
      "text/plain": "<Figure size 432x288 with 2 Axes>",
      "image/png": "[encoded data removed]"
     },
     "metadata": {
      "needs_background": "light"
     },
     "output_type": "display_data"
    }
   ],
   "source": [
    "# Confusion matrix with heatmap\n",
    "cm = confusion_matrix(train_labels, pred_labels)\n",
    "sns.heatmap(cm, annot=True, fmt='.0f')"
   ]
  },
  {
   "cell_type": "code",
   "execution_count": 12,
   "id": "95f3864a",
   "metadata": {
    "collapsed": false,
    "pycharm": {
     "name": "#%%\n"
    }
   },
   "outputs": [
    {
     "name": "stdout",
     "output_type": "stream",
     "text": [
      "              precision    recall  f1-score   support\n",
      "\n",
      "     Healthy       0.84      0.83      0.83     16770\n",
      "     Disease       0.83      0.84      0.84     16830\n",
      "\n",
      "    accuracy                           0.84     33600\n",
      "   macro avg       0.84      0.84      0.84     33600\n",
      "weighted avg       0.84      0.84      0.84     33600\n",
      "\n"
     ]
    }
   ],
   "source": [
    "cr = classification_report(train_labels, pred_labels, target_names = ['Healthy', 'Disease'])\n",
    "print(cr)"
   ]
  },
  {
   "cell_type": "code",
   "execution_count": 13,
   "id": "2e5c66ff",
   "metadata": {
    "collapsed": false,
    "pycharm": {
     "name": "#%%\n"
    }
   },
   "outputs": [
    {
     "name": "stdout",
     "output_type": "stream",
     "text": [
      "Precision for Healthy = 0.84\n",
      "Precision for Disease = 0.83\n"
     ]
    }
   ],
   "source": [
    "# Overall precision of model \n",
    "tn, fp, fn, tp = confusion_matrix(train_labels, pred_labels).ravel()\n",
    "print(f'Precision for Healthy = {tn/(tn+fn):.2f}')\n",
    "print(f'Precision for Disease = {tp/(fp+tp):.2f}')"
   ]
  },
  {
   "cell_type": "markdown",
   "id": "01f8c698",
   "metadata": {},
   "source": [
    "## 8. Discussion and conclusions"
   ]
  },
  {
   "cell_type": "markdown",
   "id": "31f274c3",
   "metadata": {
    "collapsed": false,
    "pycharm": {
     "name": "#%% md\n"
    }
   },
   "source": [
    "Overall the model is pretty accurate taking in factor it being a inquiry based data. Loss is pretty high and that may be because of the inquiry based data.\n",
    "\n",
    "Making standard changes to the model such as increasing neurons & layers didnt seem to help predictions at all.\n",
    "First big brakethrough was balancing the data. We tried using weights on the model but didnt get any noticable results by that. We tested the resample method and that elevated the accuracy from 98%/24% (overall about 50%-60% precision) to the 79%/73% accuracy (overall about 77% precision). We manged to lift it to 81%/75% (overall 79% precision) with minor tweeks of the model.\n",
    "\n",
    "Second breakthrough came with the one hotting. There was about 7 variables that we needed to categorialize with one hot encoding. It took us a while but we got it working and it raised accuracy on both healthy and disease with 2% points. That meant our overall precision is about 81% for this model.\n",
    "\n",
    "After one-hotting the training labels from 28 to 98 increasing the layers and neurons seemed to help the accuracy by alot. We doubled the layers and increased the epochs to 1000, the accuracy jumped to 88/82 (Overall 85%). The loss curve indicated that there is still more room for improvement but, due to large training time (1 sec per epoch, 16 min in total) we didn't feel like keeping current or increasing the layer or epoch count anymore would be fruitful for the purposes of submitting the exersize.\n",
    "\n",
    "For the submission purposes we chose 100 epochs with 84/83 (83.5% total) accuracy. If you wish to test the large epoch count you can increase the EPOCH variable in TRAINING field. Training takes around 1 sec per epoch on Ryzen 5800u CPU"
   ]
  }
 ],
 "metadata": {
  "kernelspec": {
   "display_name": "Python 3 (ipykernel)",
   "language": "python",
   "name": "python3"
  },
  "language_info": {
   "codemirror_mode": {
    "name": "ipython",
    "version": 3
   },
   "file_extension": ".py",
   "mimetype": "text/x-python",
   "name": "python",
   "nbconvert_exporter": "python",
   "pygments_lexer": "ipython3",
   "version": "3.9.7"
  }
 },
 "nbformat": 4,
 "nbformat_minor": 5
}