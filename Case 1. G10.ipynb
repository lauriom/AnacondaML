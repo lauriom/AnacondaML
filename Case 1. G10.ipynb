{
 "cells": [
  {
   "cell_type": "markdown",
   "id": "84d42c72-f82d-45c9-bd41-315e46aeb01d",
   "metadata": {},
   "source": [
    "# Case 1. Template\n",
    "**Neural Networks for Machine Learning Applications**<br>\n",
    "20.01.2022<br>\n",
    "G10 Lauri.M & Jesse.J<br>\n",
    "Metropolia University of Applied Sciences"
   ]
  },
  {
   "cell_type": "markdown",
   "id": "cb1318f7-7ad8-4794-9f71-21446af714f2",
   "metadata": {},
   "source": [
    "## 1. Introduction\n",
    "\n",
    "This report shows stuff"
   ]
  },
  {
   "cell_type": "markdown",
   "id": "798f751a-0465-4fda-89a9-2779687e7f64",
   "metadata": {},
   "source": [
    "## 2. Setup\n",
    "\n",
    "The following libraries and functions were used"
   ]
  },
  {
   "cell_type": "code",
   "execution_count": 2,
   "id": "4f6b4744-043c-4275-ba5e-c25cbfa9d066",
   "metadata": {
    "pycharm": {
     "name": "#%%\n"
    }
   },
   "outputs": [
    {
     "name": "stdout",
     "output_type": "stream",
     "text": [
      "Populating the interactive namespace from numpy and matplotlib\n",
      "tensorflow version: 2.7.0\n",
      "pandas version: 1.3.5\n",
      "seaborn version: 0.11.2\n"
     ]
    }
   ],
   "source": [
    "%pylab inline\n",
    "import time\n",
    "import pandas as pd\n",
    "import seaborn as sns\n",
    "import tensorflow as tf\n",
    "from sklearn.metrics import classification_report, confusion_matrix\n",
    "from sklearn.model_selection import train_test_split\n",
    "from tensorflow.keras import models, layers, losses, metrics, optimizers\n",
    "from sklearn.utils import resample\n",
    "\n",
    "print(f'tensorflow version: {tf.__version__}')\n",
    "print(f'pandas version: {pd.__version__}')\n",
    "print(f'seaborn version: {sns.__version__}')"
   ]
  },
  {
   "cell_type": "markdown",
   "id": "5c975623-3a9b-4bf9-847e-4a2c0f0bd0c3",
   "metadata": {},
   "source": [
    "## 3. Dataset"
   ]
  },
  {
   "cell_type": "code",
   "execution_count": 23,
   "id": "86c36f2f-b33c-478a-9ab5-19757a9bc82f",
   "metadata": {},
   "outputs": [
    {
     "data": {
      "text/html": [
       "<div>\n",
       "<style scoped>\n",
       "    .dataframe tbody tr th:only-of-type {\n",
       "        vertical-align: middle;\n",
       "    }\n",
       "\n",
       "    .dataframe tbody tr th {\n",
       "        vertical-align: top;\n",
       "    }\n",
       "\n",
       "    .dataframe thead th {\n",
       "        text-align: right;\n",
       "    }\n",
       "</style>\n",
       "<table border=\"1\" class=\"dataframe\">\n",
       "  <thead>\n",
       "    <tr style=\"text-align: right;\">\n",
       "      <th></th>\n",
       "      <th>HeartDiseaseorAttack</th>\n",
       "      <th>HighBP</th>\n",
       "      <th>HighChol</th>\n",
       "      <th>CholCheck</th>\n",
       "      <th>BMI</th>\n",
       "      <th>Smoker</th>\n",
       "      <th>Stroke</th>\n",
       "      <th>Diabetes</th>\n",
       "      <th>PhysActivity</th>\n",
       "      <th>Fruits</th>\n",
       "      <th>...</th>\n",
       "      <th>AnyHealthcare</th>\n",
       "      <th>NoDocbcCost</th>\n",
       "      <th>GenHlth</th>\n",
       "      <th>MentHlth</th>\n",
       "      <th>PhysHlth</th>\n",
       "      <th>DiffWalk</th>\n",
       "      <th>Sex</th>\n",
       "      <th>Age</th>\n",
       "      <th>Education</th>\n",
       "      <th>Income</th>\n",
       "    </tr>\n",
       "  </thead>\n",
       "  <tbody>\n",
       "    <tr>\n",
       "      <th>253675</th>\n",
       "      <td>0.0</td>\n",
       "      <td>1.0</td>\n",
       "      <td>1.0</td>\n",
       "      <td>1.0</td>\n",
       "      <td>45.0</td>\n",
       "      <td>0.0</td>\n",
       "      <td>0.0</td>\n",
       "      <td>0.0</td>\n",
       "      <td>0.0</td>\n",
       "      <td>1.0</td>\n",
       "      <td>...</td>\n",
       "      <td>1.0</td>\n",
       "      <td>0.0</td>\n",
       "      <td>3.0</td>\n",
       "      <td>0.0</td>\n",
       "      <td>5.0</td>\n",
       "      <td>0.0</td>\n",
       "      <td>1.0</td>\n",
       "      <td>5.0</td>\n",
       "      <td>6.0</td>\n",
       "      <td>7.0</td>\n",
       "    </tr>\n",
       "    <tr>\n",
       "      <th>253676</th>\n",
       "      <td>0.0</td>\n",
       "      <td>1.0</td>\n",
       "      <td>1.0</td>\n",
       "      <td>1.0</td>\n",
       "      <td>18.0</td>\n",
       "      <td>0.0</td>\n",
       "      <td>0.0</td>\n",
       "      <td>2.0</td>\n",
       "      <td>0.0</td>\n",
       "      <td>0.0</td>\n",
       "      <td>...</td>\n",
       "      <td>1.0</td>\n",
       "      <td>0.0</td>\n",
       "      <td>4.0</td>\n",
       "      <td>0.0</td>\n",
       "      <td>0.0</td>\n",
       "      <td>1.0</td>\n",
       "      <td>0.0</td>\n",
       "      <td>11.0</td>\n",
       "      <td>2.0</td>\n",
       "      <td>4.0</td>\n",
       "    </tr>\n",
       "    <tr>\n",
       "      <th>253677</th>\n",
       "      <td>0.0</td>\n",
       "      <td>0.0</td>\n",
       "      <td>0.0</td>\n",
       "      <td>1.0</td>\n",
       "      <td>28.0</td>\n",
       "      <td>0.0</td>\n",
       "      <td>0.0</td>\n",
       "      <td>0.0</td>\n",
       "      <td>1.0</td>\n",
       "      <td>1.0</td>\n",
       "      <td>...</td>\n",
       "      <td>1.0</td>\n",
       "      <td>0.0</td>\n",
       "      <td>1.0</td>\n",
       "      <td>0.0</td>\n",
       "      <td>0.0</td>\n",
       "      <td>0.0</td>\n",
       "      <td>0.0</td>\n",
       "      <td>2.0</td>\n",
       "      <td>5.0</td>\n",
       "      <td>2.0</td>\n",
       "    </tr>\n",
       "    <tr>\n",
       "      <th>253678</th>\n",
       "      <td>0.0</td>\n",
       "      <td>1.0</td>\n",
       "      <td>0.0</td>\n",
       "      <td>1.0</td>\n",
       "      <td>23.0</td>\n",
       "      <td>0.0</td>\n",
       "      <td>0.0</td>\n",
       "      <td>0.0</td>\n",
       "      <td>0.0</td>\n",
       "      <td>1.0</td>\n",
       "      <td>...</td>\n",
       "      <td>1.0</td>\n",
       "      <td>0.0</td>\n",
       "      <td>3.0</td>\n",
       "      <td>0.0</td>\n",
       "      <td>0.0</td>\n",
       "      <td>0.0</td>\n",
       "      <td>1.0</td>\n",
       "      <td>7.0</td>\n",
       "      <td>5.0</td>\n",
       "      <td>1.0</td>\n",
       "    </tr>\n",
       "    <tr>\n",
       "      <th>253679</th>\n",
       "      <td>1.0</td>\n",
       "      <td>1.0</td>\n",
       "      <td>1.0</td>\n",
       "      <td>1.0</td>\n",
       "      <td>25.0</td>\n",
       "      <td>0.0</td>\n",
       "      <td>0.0</td>\n",
       "      <td>2.0</td>\n",
       "      <td>1.0</td>\n",
       "      <td>1.0</td>\n",
       "      <td>...</td>\n",
       "      <td>1.0</td>\n",
       "      <td>0.0</td>\n",
       "      <td>2.0</td>\n",
       "      <td>0.0</td>\n",
       "      <td>0.0</td>\n",
       "      <td>0.0</td>\n",
       "      <td>0.0</td>\n",
       "      <td>9.0</td>\n",
       "      <td>6.0</td>\n",
       "      <td>2.0</td>\n",
       "    </tr>\n",
       "  </tbody>\n",
       "</table>\n",
       "<p>5 rows × 22 columns</p>\n",
       "</div>"
      ],
      "text/plain": [
       "        HeartDiseaseorAttack  HighBP  HighChol  CholCheck   BMI  Smoker  \\\n",
       "253675                   0.0     1.0       1.0        1.0  45.0     0.0   \n",
       "253676                   0.0     1.0       1.0        1.0  18.0     0.0   \n",
       "253677                   0.0     0.0       0.0        1.0  28.0     0.0   \n",
       "253678                   0.0     1.0       0.0        1.0  23.0     0.0   \n",
       "253679                   1.0     1.0       1.0        1.0  25.0     0.0   \n",
       "\n",
       "        Stroke  Diabetes  PhysActivity  Fruits  ...  AnyHealthcare  \\\n",
       "253675     0.0       0.0           0.0     1.0  ...            1.0   \n",
       "253676     0.0       2.0           0.0     0.0  ...            1.0   \n",
       "253677     0.0       0.0           1.0     1.0  ...            1.0   \n",
       "253678     0.0       0.0           0.0     1.0  ...            1.0   \n",
       "253679     0.0       2.0           1.0     1.0  ...            1.0   \n",
       "\n",
       "        NoDocbcCost  GenHlth  MentHlth  PhysHlth  DiffWalk  Sex   Age  \\\n",
       "253675          0.0      3.0       0.0       5.0       0.0  1.0   5.0   \n",
       "253676          0.0      4.0       0.0       0.0       1.0  0.0  11.0   \n",
       "253677          0.0      1.0       0.0       0.0       0.0  0.0   2.0   \n",
       "253678          0.0      3.0       0.0       0.0       0.0  1.0   7.0   \n",
       "253679          0.0      2.0       0.0       0.0       0.0  0.0   9.0   \n",
       "\n",
       "        Education  Income  \n",
       "253675        6.0     7.0  \n",
       "253676        2.0     4.0  \n",
       "253677        5.0     2.0  \n",
       "253678        5.0     1.0  \n",
       "253679        6.0     2.0  \n",
       "\n",
       "[5 rows x 22 columns]"
      ]
     },
     "execution_count": 23,
     "metadata": {},
     "output_type": "execute_result"
    }
   ],
   "source": [
    "file = \"http://users.metropolia.fi/~jessejy/NeuralNetwork/heart_disease_health_indicators_BRFSS2015.csv\"\n",
    "df = pd.read_csv(file, na_values = '?', on_bad_lines='skip')\n",
    "\n",
    "df.tail()"
   ]
  },
  {
   "cell_type": "markdown",
   "id": "39090124-337a-46f5-9f42-cd512f6878e6",
   "metadata": {},
   "source": [
    "## 4. Preprocessing"
   ]
  },
  {
   "cell_type": "code",
   "execution_count": 22,
   "id": "a55a5931-2e87-456d-b597-b11440fea6d2",
   "metadata": {},
   "outputs": [],
   "source": [
    "\n",
    "\n",
    "labels = df['HeartDiseaseorAttack']\n",
    "features = df.drop('HeartDiseaseorAttack', axis = 1)\n",
    "features.fillna(0, inplace = True)"
   ]
  },
  {
   "cell_type": "code",
   "execution_count": 11,
   "metadata": {
    "collapsed": false,
    "pycharm": {
     "name": "#%%\n"
    }
   },
   "outputs": [
    {
     "data": {
      "text/plain": [
       "((190260, 21), (63420, 21))"
      ]
     },
     "execution_count": 11,
     "metadata": {},
     "output_type": "execute_result"
    }
   ],
   "source": [
    "from numpy import shape\n",
    "\n",
    "labels = 1.0*(labels > 0)\n",
    "train_features, test_features, train_labels, test_labels = train_test_split(features, labels, random_state=1)\n",
    "shape(train_features), shape(test_features)\n"
   ]
  },
  {
   "cell_type": "code",
   "execution_count": null,
   "id": "d5b9462f",
   "metadata": {},
   "outputs": [],
   "source": [
    "#Rename Dataset to Label to make it easy to understand\n",
    "df = df.rename(columns={'HeartDiseaseorAttack':'Label'})"
   ]
  },
  {
   "cell_type": "code",
   "execution_count": null,
   "id": "c2ba8c68",
   "metadata": {},
   "outputs": [],
   "source": [
    "#Resampling works better than weights on this case\n",
    "\n",
    "df_majority = df[df['Label'] == 0.0]\n",
    "df_minority = df[df['Label'] == 1.0]\n",
    "print(df_majority.shape)\n",
    "\n",
    "# Upsample minority class and other classes separately\n",
    "df_minority_upsampled = resample(df_minority, \n",
    "                                 replace=True,     # sample with replacement\n",
    "                                 n_samples=24000,    # to match average class\n",
    "                                 random_state=42) # reproducible results\n",
    "\n",
    "# Downsample majority class\n",
    "df_majority_downsampled = resample(df_majority, \n",
    "                                 replace=False,    # sample without replacement\n",
    "                                 n_samples=24000,     # to match average class\n",
    "                                 random_state=42) # reproducible results\n",
    "\n",
    "# Combine majority class with upsampled minority class\n",
    "df_upsampled = pd.concat([df_majority_downsampled, df_minority_upsampled])\n",
    "print(df_upsampled['Label'].value_counts())\n",
    "\n",
    "#Define the dependent variable that needs to be predicted (labels)\n",
    "labels = df_upsampled['Label']"
   ]
  },
  {
   "cell_type": "markdown",
   "id": "9b381258-ac86-4c98-b563-e6f7fcc00ea4",
   "metadata": {},
   "source": [
    "## 5. Modeling"
   ]
  },
  {
   "cell_type": "code",
   "execution_count": 12,
   "id": "8361c731-2489-4b95-83b2-3e305bfc3564",
   "metadata": {},
   "outputs": [
    {
     "name": "stdout",
     "output_type": "stream",
     "text": [
      "Model: \"sequential\"\n",
      "_________________________________________________________________\n",
      " Layer (type)                Output Shape              Param #   \n",
      "=================================================================\n",
      " normalization (Normalizatio  (None, 21)               43        \n",
      " n)                                                              \n",
      "                                                                 \n",
      " dense (Dense)               (None, 5)                 110       \n",
      "                                                                 \n",
      " dense_1 (Dense)             (None, 1)                 6         \n",
      "                                                                 \n",
      "=================================================================\n",
      "Total params: 159\n",
      "Trainable params: 116\n",
      "Non-trainable params: 43\n",
      "_________________________________________________________________\n"
     ]
    }
   ],
   "source": [
    "normalize = layers.Normalization()\n",
    "normalize.adapt(train_features)\n",
    "\n",
    "def make_model():\n",
    "    model = models.Sequential([\n",
    "        normalize,\n",
    "        layers.Dense(5, activation = 'relu'),\n",
    "        layers.Dense(1, activation = 'sigmoid')\n",
    "    ])\n",
    "\n",
    "    model.compile(\n",
    "        optimizer = optimizers.RMSprop(),\n",
    "        loss = losses.BinaryCrossentropy(),\n",
    "        metrics = metrics.BinaryAccuracy(name = 'acc')\n",
    "    )\n",
    "\n",
    "    return model\n",
    "\n",
    "model = make_model()\n",
    "model.summary()"
   ]
  },
  {
   "cell_type": "markdown",
   "id": "0d488583-a8e6-4573-8e4e-65408edaf3e4",
   "metadata": {},
   "source": [
    "## 6. Training"
   ]
  },
  {
   "cell_type": "code",
   "execution_count": 13,
   "id": "3d7603f1-d109-4246-852d-596311a9b855",
   "metadata": {},
   "outputs": [
    {
     "name": "stdout",
     "output_type": "stream",
     "text": [
      "Total elapsed time 110.03 s and 2.201 s/epoch\n"
     ]
    }
   ],
   "source": [
    "EPOCHS = 10\n",
    "\n",
    "t0 = time.time()\n",
    "r = model.fit(\n",
    "    train_features,\n",
    "    train_labels,\n",
    "    epochs = EPOCHS,\n",
    "    batch_size = 128,\n",
    "    verbose = 0,\n",
    "    )\n",
    "\n",
    "t1 = time.time()\n",
    "etime = t1 - t0\n",
    "print(f'Total elapsed time {etime:.2f} s and {etime/EPOCHS:.3f} s/epoch')"
   ]
  },
  {
   "cell_type": "markdown",
   "id": "c042a705-6922-4ad9-af15-5832b993e76c",
   "metadata": {},
   "source": [
    "## 7. Performance and evaluation"
   ]
  },
  {
   "cell_type": "code",
   "execution_count": 14,
   "id": "d1cf3e35-4412-499f-a3a5-7aa820a45add",
   "metadata": {},
   "outputs": [
    {
     "data": {
      "image/png": "[encoded data removed]",
      "text/plain": [
       "<Figure size 432x288 with 2 Axes>"
      ]
     },
     "metadata": {
      "needs_background": "light"
     },
     "output_type": "display_data"
    }
   ],
   "source": [
    "from matplotlib.pyplot import subplot, plot, grid, ylabel, xlabel, show\n",
    "\n",
    "epochs = r.epoch\n",
    "loss = r.history['loss']\n",
    "acc = r.history['acc']\n",
    "\n",
    "subplot(2, 1, 1)\n",
    "plot(epochs, loss)\n",
    "grid()\n",
    "ylabel('Loss')\n",
    "\n",
    "subplot(2, 1, 2)\n",
    "plot(epochs, acc)\n",
    "grid()\n",
    "ylabel('Accuracy')\n",
    "xlabel('Epoch')\n",
    "show()"
   ]
  },
  {
   "cell_type": "markdown",
   "id": "317f9d8f-57b0-4ccb-8b16-098b773c2fce",
   "metadata": {},
   "source": [
    "## 8. Discussion and conclusions"
   ]
  },
  {
   "cell_type": "markdown",
   "id": "a5491f93-5bce-4571-a1b0-a88c74445474",
   "metadata": {},
   "source": []
  },
  {
   "cell_type": "code",
   "execution_count": 15,
   "metadata": {
    "collapsed": false,
    "pycharm": {
     "name": "#%%\n"
    }
   },
   "outputs": [
    {
     "name": "stdout",
     "output_type": "stream",
     "text": [
      "Training loss = 0.237\n",
      "Training accuracy = 0.908\n"
     ]
    }
   ],
   "source": [
    "print(f'Training loss = {loss[-1]:.3f}')\n",
    "print(f'Training accuracy = {acc[-1]:.3f}')"
   ]
  },
  {
   "cell_type": "code",
   "execution_count": 20,
   "metadata": {
    "collapsed": false,
    "pycharm": {
     "name": "#%%\n"
    }
   },
   "outputs": [
    {
     "name": "stdout",
     "output_type": "stream",
     "text": [
      "              Confusion matrix\n",
      "                 Prediction\n",
      "Diagnose  Healthy   Disease      SUM\n",
      "Healthy    171137      1157   172294\n",
      "Disease     16360      1606    17966\n",
      "SUM        187497      2763   190260\n"
     ]
    }
   ],
   "source": [
    "tn, fp, fn, tp = confusion_matrix(train_labels, pred_labels).ravel()\n",
    "print('              Confusion matrix')\n",
    "print(f'                 Prediction')\n",
    "print(f'Diagnose  Healthy   Disease      SUM')\n",
    "print(f'Healthy  {tn:8d}  {fp:8d} {tn+fp:8d}')\n",
    "print(f'Disease  {fn:8d}  {tp:8d} {fn+tp:8d}')\n",
    "print(f'SUM      {tn+fn:8d}  {fp+tp:8d} {tn+fp+fn+tp:8d}')"
   ]
  },
  {
   "cell_type": "code",
   "execution_count": 17,
   "metadata": {
    "collapsed": false,
    "pycharm": {
     "name": "#%%\n"
    }
   },
   "outputs": [
    {
     "name": "stdout",
     "output_type": "stream",
     "text": [
      "[[171137   1157]\n",
      " [ 16360   1606]]\n"
     ]
    }
   ],
   "source": [
    "predictions = model.predict(train_features)\n",
    "pred_labels = 1.0*(predictions >= 0.5)\n",
    "cm = confusion_matrix(train_labels, pred_labels)\n",
    "print(cm)"
   ]
  },
  {
   "cell_type": "code",
   "execution_count": 18,
   "metadata": {
    "collapsed": false,
    "pycharm": {
     "name": "#%%\n"
    }
   },
   "outputs": [
    {
     "name": "stdout",
     "output_type": "stream",
     "text": [
      "              precision    recall  f1-score   support\n",
      "\n",
      "     Healthy       0.91      0.99      0.95    172294\n",
      "     Disease       0.58      0.09      0.15     17966\n",
      "\n",
      "    accuracy                           0.91    190260\n",
      "   macro avg       0.75      0.54      0.55    190260\n",
      "weighted avg       0.88      0.91      0.88    190260\n",
      "\n"
     ]
    }
   ],
   "source": [
    "cr = classification_report(train_labels, pred_labels, target_names = ['Healthy', 'Disease'])\n",
    "print(cr)"
   ]
  },
  {
   "cell_type": "code",
   "execution_count": 21,
   "metadata": {
    "collapsed": false,
    "pycharm": {
     "name": "#%%\n"
    }
   },
   "outputs": [
    {
     "name": "stdout",
     "output_type": "stream",
     "text": [
      "Precision for Healthy = 0.91\n",
      "Precision for Disease = 0.58\n"
     ]
    }
   ],
   "source": [
    "print(f'Precision for Healthy = {tn/(tn+fn):.2f}')\n",
    "print(f'Precision for Disease = {tp/(fp+tp):.2f}')"
   ]
  }
 ],
 "metadata": {
  "kernelspec": {
   "display_name": "Python 3 (ipykernel)",
   "language": "python",
   "name": "python3"
  },
  "language_info": {
   "codemirror_mode": {
    "name": "ipython",
    "version": 3
   },
   "file_extension": ".py",
   "mimetype": "text/x-python",
   "name": "python",
   "nbconvert_exporter": "python",
   "pygments_lexer": "ipython3",
   "version": "3.9.7"
  }
 },
 "nbformat": 4,
 "nbformat_minor": 5
}