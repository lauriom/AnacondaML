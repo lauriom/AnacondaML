{
 "cells": [
  {
   "cell_type": "markdown",
   "metadata": {},
   "source": [
    "# Case X.\n",
    "Lauri Marjanen & Jesse Jyrälä, Team 10<br>\n",
    "Neural Networks for Machine Learning Applications<br>\n",
    "[Helsinki Metropolia University of Applied Sciences](http://www.metropolia.fi/en/)<br>"
   ]
  },
  {
   "cell_type": "code",
   "execution_count": 45,
   "metadata": {},
   "outputs": [
    {
     "name": "stdout",
     "output_type": "stream",
     "text": [
      "Populating the interactive namespace from numpy and matplotlib\n",
      "Tensorflow version 2.7.0\n"
     ]
    }
   ],
   "source": [
    "# Required libraries\n",
    "import numpy as np\n",
    "%pylab inline\n",
    "import os\n",
    "import pandas as pd\n",
    "import tensorflow as tf\n",
    "from keras import Sequential\n",
    "from keras.layers import Embedding, Dropout, Conv1D, GlobalAveragePooling1D, Dense\n",
    "\n",
    "from tensorflow.keras.preprocessing.text import Tokenizer\n",
    "from keras_preprocessing.sequence import pad_sequences\n",
    "from keras.utils.np_utils import to_categorical\n",
    "\n",
    "\n",
    "\n",
    "\n",
    "print(f'Tensorflow version {tf.__version__}')"
   ]
  },
  {
   "cell_type": "markdown",
   "metadata": {},
   "source": [
    "# Data"
   ]
  },
  {
   "cell_type": "code",
   "execution_count": 46,
   "metadata": {
    "tags": []
   },
   "outputs": [],
   "source": [
    "train = pd.read_csv(os.getcwd() + '/input/drugsComTrain_raw.csv')\n",
    "test = pd.read_csv(os.getcwd() + '/input/drugsComTest_raw.csv')"
   ]
  },
  {
   "cell_type": "markdown",
   "metadata": {},
   "source": []
  },
  {
   "cell_type": "code",
   "execution_count": 47,
   "outputs": [
    {
     "name": "stdout",
     "output_type": "stream",
     "text": [
      "Token count:  51429\n",
      "Shape:  (161297, 200)\n",
      "Wall time: 29 s\n"
     ]
    }
   ],
   "source": [
    "%%time\n",
    "\n",
    "maxFeat = 5000\n",
    "seqLen = 200\n",
    "\n",
    "samples = train['review']\n",
    "tokenizer = Tokenizer(maxFeat)\n",
    "tokenizer.fit_on_texts(samples)\n",
    "\n",
    "sequences = tokenizer.texts_to_sequences(samples)\n",
    "\n",
    "wordIndx = tokenizer.word_index\n",
    "data = pad_sequences(sequences,seqLen)\n",
    "\n",
    "print(\"Token count: \", len(wordIndx))\n",
    "print(\"Shape: \", data.shape)"
   ],
   "metadata": {
    "collapsed": false,
    "pycharm": {
     "name": "#%%\n"
    }
   }
  },
  {
   "cell_type": "code",
   "execution_count": 48,
   "outputs": [
    {
     "name": "stdout",
     "output_type": "stream",
     "text": [
      "Shape of lables (161297, 3)\n"
     ]
    }
   ],
   "source": [
    "ratings = train['rating'].values\n",
    "labels = 1.0*(ratings >= 8) + 1.0*(ratings >= 5)\n",
    "hotLabels = to_categorical(labels)\n",
    "print(\"Shape of lables\", hotLabels.shape)\n"
   ],
   "metadata": {
    "collapsed": false,
    "pycharm": {
     "name": "#%%\n"
    }
   }
  },
  {
   "cell_type": "markdown",
   "source": [
    "## MODEL"
   ],
   "metadata": {
    "collapsed": false,
    "pycharm": {
     "name": "#%% md\n"
    }
   }
  },
  {
   "cell_type": "code",
   "execution_count": 49,
   "outputs": [],
   "source": [
    "valSplit = 0.25\n",
    "N = int(valSplit * data.shape[0])\n",
    "index = np.arange(data.shape[0])\n",
    "np.random.shuffle(index)\n",
    "data = data[index]\n",
    "hotLabels = hotLabels[index]\n",
    "\n",
    "trainData = data[:-N]\n",
    "trainCat = hotLabels[:-N]\n",
    "valData = data[-N:]\n",
    "valCat = hotLabels[-N:]"
   ],
   "metadata": {
    "collapsed": false,
    "pycharm": {
     "name": "#%%\n"
    }
   }
  },
  {
   "cell_type": "code",
   "execution_count": 50,
   "outputs": [
    {
     "name": "stdout",
     "output_type": "stream",
     "text": [
      "Model: \"sequential_4\"\n",
      "_________________________________________________________________\n",
      " Layer (type)                Output Shape              Param #   \n",
      "=================================================================\n",
      " embedding_4 (Embedding)     (None, None, 100)         500100    \n",
      "                                                                 \n",
      " dropout_8 (Dropout)         (None, None, 100)         0         \n",
      "                                                                 \n",
      " conv1d_4 (Conv1D)           (None, None, 128)         89728     \n",
      "                                                                 \n",
      " global_average_pooling1d_4   (None, 128)              0         \n",
      " (GlobalAveragePooling1D)                                        \n",
      "                                                                 \n",
      " dropout_9 (Dropout)         (None, 128)               0         \n",
      "                                                                 \n",
      " dense_8 (Dense)             (None, 128)               16512     \n",
      "                                                                 \n",
      " dense_9 (Dense)             (None, 3)                 387       \n",
      "                                                                 \n",
      "=================================================================\n",
      "Total params: 606,727\n",
      "Trainable params: 606,727\n",
      "Non-trainable params: 0\n",
      "_________________________________________________________________\n"
     ]
    }
   ],
   "source": [
    "embeddedDing = 100\n",
    "\n",
    "model = Sequential([\n",
    "    Embedding(maxFeat +1, embeddedDing),\n",
    "    Dropout(0.2),\n",
    "    Conv1D(128,7, padding=\"valid\", activation= \"relu\", strides=3),\n",
    "    GlobalAveragePooling1D(),\n",
    "    Dropout(0.2),\n",
    "    Dense(128,activation=\"relu\"),\n",
    "    Dense(3,activation=\"softmax\")\n",
    "])\n",
    "model.compile(loss = 'categorical_crossentropy',\n",
    "              optimizer='rmsprop',\n",
    "              metrics=['acc'])\n",
    "model.summary()"
   ],
   "metadata": {
    "collapsed": false,
    "pycharm": {
     "name": "#%%\n"
    }
   }
  },
  {
   "cell_type": "code",
   "execution_count": 51,
   "outputs": [],
   "source": [
    "EPOCHS = 5\n",
    "VERBOSE = 1"
   ],
   "metadata": {
    "collapsed": false,
    "pycharm": {
     "name": "#%%\n"
    }
   }
  },
  {
   "cell_type": "code",
   "execution_count": 52,
   "outputs": [
    {
     "name": "stdout",
     "output_type": "stream",
     "text": [
      "Epoch 1/5\n",
      "946/946 [==============================] - 56s 58ms/step - loss: 0.7130 - acc: 0.7134 - val_loss: 0.7169 - val_acc: 0.7175\n",
      "Epoch 2/5\n",
      "946/946 [==============================] - 56s 59ms/step - loss: 0.6125 - acc: 0.7563 - val_loss: 0.6024 - val_acc: 0.7589\n",
      "Epoch 3/5\n",
      "946/946 [==============================] - 56s 60ms/step - loss: 0.5721 - acc: 0.7716 - val_loss: 0.5879 - val_acc: 0.7671\n",
      "Epoch 4/5\n",
      "946/946 [==============================] - 54s 57ms/step - loss: 0.5403 - acc: 0.7848 - val_loss: 0.6163 - val_acc: 0.7570\n",
      "Epoch 5/5\n",
      "946/946 [==============================] - 54s 57ms/step - loss: 0.5117 - acc: 0.7978 - val_loss: 0.5981 - val_acc: 0.7716\n",
      "Wall time: 4min 36s\n"
     ]
    }
   ],
   "source": [
    "%%time\n",
    "hist= model.fit(trainData, trainCat,\n",
    "                batch_size=128,\n",
    "                epochs=EPOCHS,\n",
    "                verbose=VERBOSE,\n",
    "                validation_data=(valData,valCat)\n",
    "                )"
   ],
   "metadata": {
    "collapsed": false,
    "pycharm": {
     "name": "#%%\n"
    }
   }
  },
  {
   "cell_type": "markdown",
   "source": [],
   "metadata": {
    "collapsed": false,
    "pycharm": {
     "name": "#%% md\n"
    }
   }
  },
  {
   "cell_type": "markdown",
   "metadata": {},
   "source": [
    "# Results and Discussion"
   ]
  },
  {
   "cell_type": "markdown",
   "metadata": {},
   "source": [
    "The following results were achieved ..."
   ]
  },
  {
   "cell_type": "code",
   "execution_count": 58,
   "metadata": {
    "tags": []
   },
   "outputs": [
    {
     "data": {
      "text/plain": "<Figure size 936x360 with 2 Axes>",
      "image/png": "[encoded data removed]"
     },
     "metadata": {
      "needs_background": "light"
     },
     "output_type": "display_data"
    }
   ],
   "source": [
    "from IPython.core.pylabtools import figsize\n",
    "from matplotlib.pyplot import figure, subplot, plot, title, ylim, legend, grid\n",
    "\n",
    "x_axis = np.arange(len(hist.history['loss'])) + 1\n",
    "\n",
    "\n",
    "figure(figsize(13,5))\n",
    "subplot(1,2,1)\n",
    "plot(x_axis, hist.history['loss'], 'x-', label = 'training')\n",
    "plot(x_axis, hist.history['val_loss'], '*-', label = 'validation')\n",
    "title('loss')\n",
    "ylim(0,)\n",
    "legend()\n",
    "grid()\n",
    "\n",
    "\n",
    "subplot(1,2,2)\n",
    "plot(x_axis, hist.history['acc'], 'x-', label = 'training')\n",
    "plot(x_axis, hist.history['val_acc'], '*-', label = 'validation')\n",
    "\n",
    "title('accuracy')\n",
    "ylim(0,1.0)\n",
    "legend()\n",
    "grid()"
   ]
  },
  {
   "cell_type": "code",
   "execution_count": 60,
   "outputs": [
    {
     "name": "stdout",
     "output_type": "stream",
     "text": [
      "Chohen's kappa linear 0.5429166369285099\n",
      "Chohen's kappa quad 0.6733936199028562\n"
     ]
    }
   ],
   "source": [
    "from sklearn.metrics import cohen_kappa_score\n",
    "\n",
    "pred_labels = np.argmax(model.predict(valData),axis=1)\n",
    "val_labels = np.argmax(valCat, axis = 1)\n",
    "\n",
    "k = cohen_kappa_score(val_labels,pred_labels)\n",
    "print(\"Chohen's kappa linear\", k)\n",
    "\n",
    "k = cohen_kappa_score(val_labels,pred_labels, weights='quadratic')\n",
    "print(\"Chohen's kappa quad\", k)"
   ],
   "metadata": {
    "collapsed": false,
    "pycharm": {
     "name": "#%%\n"
    }
   }
  },
  {
   "cell_type": "markdown",
   "metadata": {},
   "source": [
    "# Conclusions"
   ]
  },
  {
   "cell_type": "markdown",
   "metadata": {},
   "source": [
    "To summarize we found out that ..."
   ]
  }
 ],
 "metadata": {
  "kernelspec": {
   "display_name": "Python 3 (ipykernel)",
   "language": "python",
   "name": "python3"
  },
  "language_info": {
   "codemirror_mode": {
    "name": "ipython",
    "version": 3
   },
   "file_extension": ".py",
   "mimetype": "text/x-python",
   "name": "python",
   "nbconvert_exporter": "python",
   "pygments_lexer": "ipython3",
   "version": "3.9.7"
  },
  "toc": {
   "base_numbering": 1,
   "nav_menu": {},
   "number_sections": true,
   "sideBar": true,
   "skip_h1_title": false,
   "title_cell": "Table of Contents",
   "title_sidebar": "Contents",
   "toc_cell": true,
   "toc_position": {},
   "toc_section_display": true,
   "toc_window_display": false
  }
 },
 "nbformat": 4,
 "nbformat_minor": 4
}