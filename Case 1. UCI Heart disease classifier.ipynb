{
 "cells": [
  {
   "cell_type": "markdown",
   "id": "84d42c72-f82d-45c9-bd41-315e46aeb01d",
   "metadata": {},
   "source": [
    "# Case 1. UCI Heart disease classifier\n",
    "**Neural Networks for Machine Learning Applications**<br>\n",
    "14.1.2022<br>\n",
    "Lauri Marjanen<br>\n",
    "Metropolia University of Applied Sciences"
   ]
  },
  {
   "cell_type": "markdown",
   "id": "cb1318f7-7ad8-4794-9f71-21446af714f2",
   "metadata": {},
   "source": [
    "## 1. Introduction and background\n",
    "\n",
    "This report shows ..."
   ]
  },
  {
   "cell_type": "markdown",
   "id": "798f751a-0465-4fda-89a9-2779687e7f64",
   "metadata": {},
   "source": [
    "## 2. Setup\n",
    "\n",
    "The following libraries and functions are used"
   ]
  },
  {
   "cell_type": "code",
   "execution_count": 1,
   "id": "deab2af5-8fd7-4c45-b9a6-1f62d9d131c4",
   "metadata": {},
   "outputs": [
    {
     "name": "stdout",
     "output_type": "stream",
     "text": [
      "Populating the interactive namespace from numpy and matplotlib\n",
      "tensorflow version: 2.7.0\n",
      "pandas version: 1.3.5\n",
      "seaborn version: 0.11.2\n"
     ]
    }
   ],
   "source": [
    "%pylab inline\n",
    "import time\n",
    "import pandas as pd\n",
    "import seaborn as sns\n",
    "import tensorflow as tf\n",
    "from sklearn.metrics import classification_report, confusion_matrix\n",
    "from sklearn.model_selection import train_test_split\n",
    "from tensorflow.keras import models, layers, losses, metrics, optimizers\n",
    "\n",
    "print(f'tensorflow version: {tf.__version__}')\n",
    "print(f'pandas version: {pd.__version__}')\n",
    "print(f'seaborn version: {sns.__version__}')"
   ]
  },
  {
   "cell_type": "markdown",
   "id": "5c975623-3a9b-4bf9-847e-4a2c0f0bd0c3",
   "metadata": {},
   "source": [
    "## 3. Dataset"
   ]
  },
  {
   "cell_type": "code",
   "execution_count": 1,
   "id": "86c36f2f-b33c-478a-9ab5-19757a9bc82f",
   "metadata": {},
   "outputs": [
    {
     "ename": "NameError",
     "evalue": "name 'pd' is not defined",
     "output_type": "error",
     "traceback": [
      "\u001B[1;31m---------------------------------------------------------------------------\u001B[0m",
      "\u001B[1;31mNameError\u001B[0m                                 Traceback (most recent call last)",
      "\u001B[1;32mC:\\Users\\LAURIM~1\\AppData\\Local\\Temp/ipykernel_1784/4012840930.py\u001B[0m in \u001B[0;36m<module>\u001B[1;34m\u001B[0m\n\u001B[0;32m      1\u001B[0m \u001B[0mfile\u001B[0m \u001B[1;33m=\u001B[0m \u001B[1;34m\"https://archive.ics.uci.edu/ml/machine-learning-databases/heart-disease/processed.cleveland.data\"\u001B[0m\u001B[1;33m\u001B[0m\u001B[1;33m\u001B[0m\u001B[0m\n\u001B[1;32m----> 2\u001B[1;33m \u001B[0mdf\u001B[0m \u001B[1;33m=\u001B[0m \u001B[0mpd\u001B[0m\u001B[1;33m.\u001B[0m\u001B[0mread_csv\u001B[0m\u001B[1;33m(\u001B[0m\u001B[0mfile\u001B[0m\u001B[1;33m,\u001B[0m \u001B[0mheader\u001B[0m \u001B[1;33m=\u001B[0m \u001B[1;32mNone\u001B[0m\u001B[1;33m,\u001B[0m \u001B[0mna_values\u001B[0m \u001B[1;33m=\u001B[0m \u001B[1;34m'?'\u001B[0m\u001B[1;33m)\u001B[0m\u001B[1;33m\u001B[0m\u001B[1;33m\u001B[0m\u001B[0m\n\u001B[0m\u001B[0;32m      3\u001B[0m \u001B[0mdf\u001B[0m\u001B[1;33m.\u001B[0m\u001B[0mcolumns\u001B[0m \u001B[1;33m=\u001B[0m \u001B[1;33m[\u001B[0m\u001B[1;34m'age'\u001B[0m\u001B[1;33m,\u001B[0m \u001B[1;34m'sex'\u001B[0m\u001B[1;33m,\u001B[0m \u001B[1;34m'cp'\u001B[0m\u001B[1;33m,\u001B[0m \u001B[1;34m'trestbps'\u001B[0m\u001B[1;33m,\u001B[0m \u001B[1;34m'chol'\u001B[0m\u001B[1;33m,\u001B[0m \u001B[1;34m'fbs'\u001B[0m\u001B[1;33m,\u001B[0m \u001B[1;34m'restecg'\u001B[0m\u001B[1;33m,\u001B[0m \u001B[1;34m'thalac'\u001B[0m\u001B[1;33m,\u001B[0m \u001B[1;34m'exang'\u001B[0m\u001B[1;33m,\u001B[0m \u001B[1;34m'oldpeak'\u001B[0m\u001B[1;33m,\u001B[0m \u001B[1;34m'slope'\u001B[0m\u001B[1;33m,\u001B[0m \u001B[1;34m'ca'\u001B[0m\u001B[1;33m,\u001B[0m \u001B[1;34m'thal'\u001B[0m\u001B[1;33m,\u001B[0m \u001B[1;34m'num'\u001B[0m\u001B[1;33m]\u001B[0m\u001B[1;33m\u001B[0m\u001B[1;33m\u001B[0m\u001B[0m\n",
      "\u001B[1;31mNameError\u001B[0m: name 'pd' is not defined"
     ]
    }
   ],
   "source": [
    "file = \"https://archive.ics.uci.edu/ml/machine-learning-databases/heart-disease/processed.cleveland.data\"\n",
    "df = pd.read_csv(file, header = None, na_values = '?')\n",
    "df.columns = ['age', 'sex', 'cp', 'trestbps', 'chol', 'fbs', 'restecg', 'thalac', 'exang', 'oldpeak', 'slope', 'ca', 'thal', 'num']"
   ]
  },
  {
   "cell_type": "markdown",
   "id": "e3f17513-2c45-444c-91b8-149c8b927747",
   "metadata": {},
   "source": [
    "## 4. Preprocessing"
   ]
  },
  {
   "cell_type": "code",
   "execution_count": 3,
   "id": "595d3eb3-dde1-40db-8dec-8ed07994c793",
   "metadata": {},
   "outputs": [],
   "source": [
    "labels = df['num']\n",
    "features = df.drop('num', axis = 1)\n",
    "features.fillna(0, inplace = True)"
   ]
  },
  {
   "cell_type": "code",
   "execution_count": 4,
   "id": "f08d2edd-d787-4369-b915-0ee2da8ee3ae",
   "metadata": {},
   "outputs": [
    {
     "data": {
      "text/plain": "              age         sex          cp    trestbps        chol         fbs  \\\ncount  303.000000  303.000000  303.000000  303.000000  303.000000  303.000000   \nmean    54.438944    0.679868    3.158416  131.689769  246.693069    0.148515   \nstd      9.038662    0.467299    0.960126   17.599748   51.776918    0.356198   \nmin     29.000000    0.000000    1.000000   94.000000  126.000000    0.000000   \n25%     48.000000    0.000000    3.000000  120.000000  211.000000    0.000000   \n50%     56.000000    1.000000    3.000000  130.000000  241.000000    0.000000   \n75%     61.000000    1.000000    4.000000  140.000000  275.000000    0.000000   \nmax     77.000000    1.000000    4.000000  200.000000  564.000000    1.000000   \n\n          restecg      thalac       exang     oldpeak       slope          ca  \\\ncount  303.000000  303.000000  303.000000  303.000000  303.000000  303.000000   \nmean     0.990099  149.607261    0.326733    1.039604    1.600660    0.663366   \nstd      0.994971   22.875003    0.469794    1.161075    0.616226    0.934375   \nmin      0.000000   71.000000    0.000000    0.000000    1.000000    0.000000   \n25%      0.000000  133.500000    0.000000    0.000000    1.000000    0.000000   \n50%      1.000000  153.000000    0.000000    0.800000    2.000000    0.000000   \n75%      2.000000  166.000000    1.000000    1.600000    2.000000    1.000000   \nmax      2.000000  202.000000    1.000000    6.200000    3.000000    3.000000   \n\n             thal  \ncount  303.000000  \nmean     4.702970  \nstd      1.971038  \nmin      0.000000  \n25%      3.000000  \n50%      3.000000  \n75%      7.000000  \nmax      7.000000  ",
      "text/html": "<div>\n<style scoped>\n    .dataframe tbody tr th:only-of-type {\n        vertical-align: middle;\n    }\n\n    .dataframe tbody tr th {\n        vertical-align: top;\n    }\n\n    .dataframe thead th {\n        text-align: right;\n    }\n</style>\n<table border=\"1\" class=\"dataframe\">\n  <thead>\n    <tr style=\"text-align: right;\">\n      <th></th>\n      <th>age</th>\n      <th>sex</th>\n      <th>cp</th>\n      <th>trestbps</th>\n      <th>chol</th>\n      <th>fbs</th>\n      <th>restecg</th>\n      <th>thalac</th>\n      <th>exang</th>\n      <th>oldpeak</th>\n      <th>slope</th>\n      <th>ca</th>\n      <th>thal</th>\n    </tr>\n  </thead>\n  <tbody>\n    <tr>\n      <th>count</th>\n      <td>303.000000</td>\n      <td>303.000000</td>\n      <td>303.000000</td>\n      <td>303.000000</td>\n      <td>303.000000</td>\n      <td>303.000000</td>\n      <td>303.000000</td>\n      <td>303.000000</td>\n      <td>303.000000</td>\n      <td>303.000000</td>\n      <td>303.000000</td>\n      <td>303.000000</td>\n      <td>303.000000</td>\n    </tr>\n    <tr>\n      <th>mean</th>\n      <td>54.438944</td>\n      <td>0.679868</td>\n      <td>3.158416</td>\n      <td>131.689769</td>\n      <td>246.693069</td>\n      <td>0.148515</td>\n      <td>0.990099</td>\n      <td>149.607261</td>\n      <td>0.326733</td>\n      <td>1.039604</td>\n      <td>1.600660</td>\n      <td>0.663366</td>\n      <td>4.702970</td>\n    </tr>\n    <tr>\n      <th>std</th>\n      <td>9.038662</td>\n      <td>0.467299</td>\n      <td>0.960126</td>\n      <td>17.599748</td>\n      <td>51.776918</td>\n      <td>0.356198</td>\n      <td>0.994971</td>\n      <td>22.875003</td>\n      <td>0.469794</td>\n      <td>1.161075</td>\n      <td>0.616226</td>\n      <td>0.934375</td>\n      <td>1.971038</td>\n    </tr>\n    <tr>\n      <th>min</th>\n      <td>29.000000</td>\n      <td>0.000000</td>\n      <td>1.000000</td>\n      <td>94.000000</td>\n      <td>126.000000</td>\n      <td>0.000000</td>\n      <td>0.000000</td>\n      <td>71.000000</td>\n      <td>0.000000</td>\n      <td>0.000000</td>\n      <td>1.000000</td>\n      <td>0.000000</td>\n      <td>0.000000</td>\n    </tr>\n    <tr>\n      <th>25%</th>\n      <td>48.000000</td>\n      <td>0.000000</td>\n      <td>3.000000</td>\n      <td>120.000000</td>\n      <td>211.000000</td>\n      <td>0.000000</td>\n      <td>0.000000</td>\n      <td>133.500000</td>\n      <td>0.000000</td>\n      <td>0.000000</td>\n      <td>1.000000</td>\n      <td>0.000000</td>\n      <td>3.000000</td>\n    </tr>\n    <tr>\n      <th>50%</th>\n      <td>56.000000</td>\n      <td>1.000000</td>\n      <td>3.000000</td>\n      <td>130.000000</td>\n      <td>241.000000</td>\n      <td>0.000000</td>\n      <td>1.000000</td>\n      <td>153.000000</td>\n      <td>0.000000</td>\n      <td>0.800000</td>\n      <td>2.000000</td>\n      <td>0.000000</td>\n      <td>3.000000</td>\n    </tr>\n    <tr>\n      <th>75%</th>\n      <td>61.000000</td>\n      <td>1.000000</td>\n      <td>4.000000</td>\n      <td>140.000000</td>\n      <td>275.000000</td>\n      <td>0.000000</td>\n      <td>2.000000</td>\n      <td>166.000000</td>\n      <td>1.000000</td>\n      <td>1.600000</td>\n      <td>2.000000</td>\n      <td>1.000000</td>\n      <td>7.000000</td>\n    </tr>\n    <tr>\n      <th>max</th>\n      <td>77.000000</td>\n      <td>1.000000</td>\n      <td>4.000000</td>\n      <td>200.000000</td>\n      <td>564.000000</td>\n      <td>1.000000</td>\n      <td>2.000000</td>\n      <td>202.000000</td>\n      <td>1.000000</td>\n      <td>6.200000</td>\n      <td>3.000000</td>\n      <td>3.000000</td>\n      <td>7.000000</td>\n    </tr>\n  </tbody>\n</table>\n</div>"
     },
     "execution_count": 4,
     "metadata": {},
     "output_type": "execute_result"
    }
   ],
   "source": [
    "features.describe()"
   ]
  },
  {
   "cell_type": "code",
   "execution_count": 5,
   "id": "87f590a5-fafe-4d89-846f-740e968f51c7",
   "metadata": {},
   "outputs": [
    {
     "data": {
      "text/plain": "((227, 13), (76, 13))"
     },
     "execution_count": 5,
     "metadata": {},
     "output_type": "execute_result"
    }
   ],
   "source": [
    "from numpy import shape\n",
    "\n",
    "labels = 1.0*(labels > 0)\n",
    "train_features, test_features, train_labels, test_labels = train_test_split(features, labels, random_state=0)\n",
    "shape(train_features), shape(test_features)"
   ]
  },
  {
   "cell_type": "markdown",
   "id": "9b381258-ac86-4c98-b563-e6f7fcc00ea4",
   "metadata": {},
   "source": [
    "## 4. Modeling"
   ]
  },
  {
   "cell_type": "code",
   "execution_count": 6,
   "id": "8361c731-2489-4b95-83b2-3e305bfc3564",
   "metadata": {},
   "outputs": [
    {
     "name": "stdout",
     "output_type": "stream",
     "text": [
      "Model: \"sequential\"\n",
      "_________________________________________________________________\n",
      " Layer (type)                Output Shape              Param #   \n",
      "=================================================================\n",
      " normalization (Normalizatio  (None, 13)               27        \n",
      " n)                                                              \n",
      "                                                                 \n",
      " dense (Dense)               (None, 5)                 70        \n",
      "                                                                 \n",
      " dense_1 (Dense)             (None, 1)                 6         \n",
      "                                                                 \n",
      "=================================================================\n",
      "Total params: 103\n",
      "Trainable params: 76\n",
      "Non-trainable params: 27\n",
      "_________________________________________________________________\n"
     ]
    }
   ],
   "source": [
    "normalize = layers.Normalization()\n",
    "normalize.adapt(train_features)\n",
    "\n",
    "def make_model():\n",
    "    model = models.Sequential([\n",
    "        normalize,\n",
    "        layers.Dense(5, activation = 'relu'),\n",
    "        layers.Dense(1, activation = 'sigmoid')\n",
    "    ])\n",
    "    \n",
    "    model.compile(\n",
    "        optimizer = optimizers.RMSprop(),\n",
    "        loss = losses.BinaryCrossentropy(),\n",
    "        metrics = metrics.BinaryAccuracy(name = 'acc')\n",
    "    )\n",
    "    \n",
    "    return model\n",
    "    \n",
    "model = make_model()\n",
    "model.summary()"
   ]
  },
  {
   "cell_type": "markdown",
   "id": "1a3aad77-7f63-496b-83b4-ba8a11d42577",
   "metadata": {},
   "source": [
    "## 5. Training"
   ]
  },
  {
   "cell_type": "code",
   "execution_count": 7,
   "id": "145b2873-d0a4-4665-9f90-15217fdb7326",
   "metadata": {},
   "outputs": [
    {
     "name": "stdout",
     "output_type": "stream",
     "text": [
      "Total elapsed time 1.50 s and 0.030 s/epoch\n"
     ]
    }
   ],
   "source": [
    "EPOCHS = 50\n",
    "\n",
    "t0 = time.time()\n",
    "r = model.fit(\n",
    "    train_features,\n",
    "    train_labels,\n",
    "    epochs = EPOCHS,\n",
    "    batch_size = 128,\n",
    "    verbose = 0,\n",
    "    )\n",
    "\n",
    "t1 = time.time()\n",
    "etime = t1 - t0\n",
    "print(f'Total elapsed time {etime:.2f} s and {etime/EPOCHS:.3f} s/epoch')"
   ]
  },
  {
   "cell_type": "markdown",
   "id": "0d488583-a8e6-4573-8e4e-65408edaf3e4",
   "metadata": {},
   "source": [
    "## 6. Performance and evaluation"
   ]
  },
  {
   "cell_type": "code",
   "execution_count": 8,
   "id": "3d7603f1-d109-4246-852d-596311a9b855",
   "metadata": {},
   "outputs": [
    {
     "data": {
      "text/plain": "<Figure size 432x288 with 2 Axes>",
      "image/png": "[encoded data removed]"
     },
     "metadata": {
      "needs_background": "light"
     },
     "output_type": "display_data"
    }
   ],
   "source": [
    "from matplotlib.pyplot import subplot, plot, grid, ylabel, xlabel, show\n",
    "\n",
    "epochs = r.epoch\n",
    "loss = r.history['loss']\n",
    "acc = r.history['acc']\n",
    "\n",
    "subplot(2, 1, 1)\n",
    "plot(epochs, loss)\n",
    "grid()\n",
    "ylabel('Loss')\n",
    "\n",
    "subplot(2, 1, 2)\n",
    "plot(epochs, acc)\n",
    "grid()\n",
    "ylabel('Accuracy')\n",
    "xlabel('Epoch')\n",
    "show()"
   ]
  },
  {
   "cell_type": "code",
   "execution_count": 9,
   "id": "7d4e38ea-348e-4848-a09b-085d135f56da",
   "metadata": {},
   "outputs": [
    {
     "name": "stdout",
     "output_type": "stream",
     "text": [
      "Training loss = 0.643\n",
      "Training accuracy = 0.621\n"
     ]
    }
   ],
   "source": [
    "print(f'Training loss = {loss[-1]:.3f}')\n",
    "print(f'Training accuracy = {acc[-1]:.3f}')"
   ]
  },
  {
   "cell_type": "code",
   "execution_count": 10,
   "id": "f8e2a92f-3870-476e-b370-b98b3cebbc03",
   "metadata": {},
   "outputs": [
    {
     "name": "stdout",
     "output_type": "stream",
     "text": [
      "Test loss = 0.714\n",
      "Test accuracy = 0.553\n"
     ]
    }
   ],
   "source": [
    "test_loss, test_acc = model.evaluate(test_features, test_labels, verbose = 0)\n",
    "print(f'Test loss = {test_loss:.3f}')\n",
    "print(f'Test accuracy = {test_acc:.3f}')"
   ]
  },
  {
   "cell_type": "code",
   "execution_count": 11,
   "id": "fcd30b00-a81d-47fb-b890-e042399b72ce",
   "metadata": {},
   "outputs": [],
   "source": [
    "predictions = model.predict(train_features)\n",
    "pred_labels = 1.0*(predictions >= 0.5)"
   ]
  },
  {
   "cell_type": "code",
   "execution_count": 12,
   "id": "91bf5ce1-1010-4780-a8de-7ac8ba13c802",
   "metadata": {},
   "outputs": [
    {
     "name": "stdout",
     "output_type": "stream",
     "text": [
      "[[65 59]\n",
      " [26 77]]\n"
     ]
    }
   ],
   "source": [
    "cm = confusion_matrix(train_labels, pred_labels)\n",
    "print(cm)"
   ]
  },
  {
   "cell_type": "code",
   "execution_count": 13,
   "id": "19d11202-79f9-4a84-b1ad-9be6bdb41710",
   "metadata": {},
   "outputs": [
    {
     "name": "stdout",
     "output_type": "stream",
     "text": [
      "              Confusion matrix\n",
      "                 Prediction\n",
      "Diagnose  Healthy   Disease      SUM\n",
      "Healthy        65        59      124\n",
      "Disease        26        77      103\n",
      "SUM            91       136      227\n"
     ]
    }
   ],
   "source": [
    "tn, fp, fn, tp = confusion_matrix(train_labels, pred_labels).ravel()\n",
    "print('              Confusion matrix')\n",
    "print(f'                 Prediction')\n",
    "print(f'Diagnose  Healthy   Disease      SUM')\n",
    "print(f'Healthy  {tn:8d}  {fp:8d} {tn+fp:8d}')\n",
    "print(f'Disease  {fn:8d}  {tp:8d} {fn+tp:8d}')\n",
    "print(f'SUM      {tn+fn:8d}  {fp+tp:8d} {tn+fp+fn+tp:8d}')"
   ]
  },
  {
   "cell_type": "code",
   "execution_count": 14,
   "id": "e633e17f-443d-4e22-ba0e-706eba6ededb",
   "metadata": {},
   "outputs": [
    {
     "name": "stdout",
     "output_type": "stream",
     "text": [
      "              precision    recall  f1-score   support\n",
      "\n",
      "     Healthy       0.71      0.52      0.60       124\n",
      "     Disease       0.57      0.75      0.64       103\n",
      "\n",
      "    accuracy                           0.63       227\n",
      "   macro avg       0.64      0.64      0.62       227\n",
      "weighted avg       0.65      0.63      0.62       227\n",
      "\n"
     ]
    }
   ],
   "source": [
    "cr = classification_report(train_labels, pred_labels, target_names = ['Healthy', 'Disease'])\n",
    "print(cr)"
   ]
  },
  {
   "cell_type": "code",
   "execution_count": 15,
   "id": "4df13e5c-db9c-41b5-a2c9-3229c353a524",
   "metadata": {},
   "outputs": [
    {
     "name": "stdout",
     "output_type": "stream",
     "text": [
      "Precision for Healthy = 0.71\n",
      "Precision for Disease = 0.57\n"
     ]
    }
   ],
   "source": [
    "print(f'Precision for Healthy = {tn/(tn+fn):.2f}')\n",
    "print(f'Precision for Disease = {tp/(fp+tp):.2f}')"
   ]
  },
  {
   "cell_type": "markdown",
   "id": "c042a705-6922-4ad9-af15-5832b993e76c",
   "metadata": {},
   "source": [
    "## 7. Discussion and conclusions"
   ]
  },
  {
   "cell_type": "markdown",
   "id": "99bc7872-a55c-4254-855e-fc38fd01b015",
   "metadata": {},
   "source": []
  }
 ],
 "metadata": {
  "kernelspec": {
   "display_name": "Python 3 (ipykernel)",
   "language": "python",
   "name": "python3"
  },
  "language_info": {
   "codemirror_mode": {
    "name": "ipython",
    "version": 3
   },
   "file_extension": ".py",
   "mimetype": "text/x-python",
   "name": "python",
   "nbconvert_exporter": "python",
   "pygments_lexer": "ipython3",
   "version": "3.9.7"
  }
 },
 "nbformat": 4,
 "nbformat_minor": 5
}