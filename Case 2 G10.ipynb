{
 "cells": [
  {
   "cell_type": "markdown",
   "metadata": {},
   "source": [
    "# Case X.\n",
    "Lauri Marjanen, Team 10<br>\n",
    "Neural Networks for Machine Learning Applications<br>\n",
    "[Helsinki Metropolia University of Applied Sciences](http://www.metropolia.fi/en/)<br>"
   ]
  },
  {
   "cell_type": "code",
   "execution_count": 27,
   "metadata": {},
   "outputs": [
    {
     "name": "stdout",
     "output_type": "stream",
     "text": [
      "Populating the interactive namespace from numpy and matplotlib\n",
      "tensorflow 2.7.0\n"
     ]
    },
    {
     "name": "stderr",
     "output_type": "stream",
     "text": [
      "C:\\ProgramData\\Anaconda3\\envs\\Anaconda ML\\lib\\site-packages\\IPython\\core\\magics\\pylab.py:159: UserWarning: pylab import has clobbered these variables: ['copy', 'hist']\n",
      "`%matplotlib` prevents importing * from pylab and numpy\n",
      "  warn(\"pylab import has clobbered these variables: %s\"  % clobbered +\n"
     ]
    }
   ],
   "source": [
    "import copy\n",
    "%pylab inline\n",
    "import os\n",
    "import tensorflow as tf\n",
    "import numpy as np\n",
    "from tensorflow import keras\n",
    "from tensorflow.keras import layers, models, optimizers\n",
    "from tensorflow.keras.models import Sequential\n",
    "from tensorflow.keras.preprocessing.image import ImageDataGenerator\n",
    "\n",
    "print(\"tensorflow\", tf.__version__)"
   ]
  },
  {
   "cell_type": "markdown",
   "metadata": {},
   "source": [
    "# Background"
   ]
  },
  {
   "cell_type": "markdown",
   "metadata": {},
   "source": [
    "The aim of this Notebook is ..."
   ]
  },
  {
   "cell_type": "markdown",
   "metadata": {},
   "source": [
    "# Data"
   ]
  },
  {
   "cell_type": "markdown",
   "source": [
    "Different data processing methods attempted:\n",
    "set image color = grayscale to change image dim from 128*128*3 to 128*128*1, did not help accuracy"
   ],
   "metadata": {
    "collapsed": false,
    "pycharm": {
     "name": "#%% md\n"
    }
   }
  },
  {
   "cell_type": "code",
   "execution_count": 28,
   "outputs": [
    {
     "name": "stdout",
     "output_type": "stream",
     "text": [
      "Found 5216 files belonging to 2 classes.\n",
      "Using 4173 files for training.\n",
      "Found 5216 files belonging to 2 classes.\n",
      "Using 1043 files for validation.\n",
      "Found 624 files belonging to 2 classes.\n"
     ]
    }
   ],
   "source": [
    "batch_size = 128\n",
    "img_height = 128\n",
    "img_width = 128\n",
    "\n",
    "curDir = os.getcwd()\n",
    "train_dir = curDir + '/input/train'\n",
    "test_dir = curDir + '/input/test'\n",
    "val_dir = curDir + '/input/val'\n",
    "\n",
    "# Training dataset\n",
    "train_ds = tf.keras.preprocessing.image_dataset_from_directory(\n",
    "  train_dir,\n",
    "  validation_split = 0.2,\n",
    "  subset = \"training\",\n",
    "  seed = 123,\n",
    "  image_size = (img_height, img_width),\n",
    "  batch_size = batch_size)\n",
    "\n",
    "\n",
    "# Validation dataset\n",
    "val_ds = tf.keras.preprocessing.image_dataset_from_directory(\n",
    "  train_dir,\n",
    "  validation_split = 0.2,\n",
    "  subset = \"validation\",\n",
    "  seed = 123,\n",
    "  image_size = (img_height, img_width),\n",
    "  batch_size = batch_size)\n",
    "\n",
    "test_ds = tf.keras.preprocessing.image_dataset_from_directory(\n",
    "  test_dir,\n",
    "  image_size = (img_height, img_width),\n",
    "  batch_size = batch_size)\n"
   ],
   "metadata": {
    "collapsed": false,
    "pycharm": {
     "name": "#%%\n"
    }
   }
  },
  {
   "cell_type": "code",
   "execution_count": 29,
   "outputs": [
    {
     "name": "stdout",
     "output_type": "stream",
     "text": [
      "Found 5216 images belonging to 2 classes.\n",
      "Found 16 images belonging to 2 classes.\n"
     ]
    }
   ],
   "source": [
    "datagen = ImageDataGenerator( # Usaly xray machines force you to stand still in a specific position,\n",
    "                              # so it does not make sense for the data to be augmented too much\n",
    "  width_shift_range=0.01,\n",
    "  height_shift_range=0.01,\n",
    "  shear_range=0.01,\n",
    "  zoom_range=0.01,\n",
    "  fill_mode='nearest',\n",
    ")\n",
    "train_gen_ds = datagen.flow_from_directory(train_dir, target_size=(img_width,img_height), batch_size=batch_size,\n",
    "                                           class_mode='binary')\n",
    "val_gen_ds = datagen.flow_from_directory(val_dir, target_size=(img_width,img_height),\n",
    "                                         batch_size=batch_size,class_mode='binary')"
   ],
   "metadata": {
    "collapsed": false,
    "pycharm": {
     "name": "#%%\n"
    }
   }
  },
  {
   "cell_type": "code",
   "execution_count": 30,
   "outputs": [],
   "source": [
    "AUTOTUNE = tf.data.experimental.AUTOTUNE\n",
    "train_ds = train_ds.cache().shuffle(1000).prefetch(buffer_size=AUTOTUNE)\n",
    "val_ds = val_ds.cache().prefetch(buffer_size=AUTOTUNE)"
   ],
   "metadata": {
    "collapsed": false,
    "pycharm": {
     "name": "#%%\n"
    }
   }
  },
  {
   "cell_type": "markdown",
   "metadata": {},
   "source": [
    "# Model and training"
   ]
  },
  {
   "cell_type": "markdown",
   "metadata": {},
   "source": [
    "The following model was used ..."
   ]
  },
  {
   "cell_type": "code",
   "execution_count": 31,
   "outputs": [
    {
     "name": "stdout",
     "output_type": "stream",
     "text": [
      "Model: \"sequential_5\"\n",
      "_________________________________________________________________\n",
      " Layer (type)                Output Shape              Param #   \n",
      "=================================================================\n",
      " rescaling_5 (Rescaling)     (None, 128, 128, 3)       0         \n",
      "                                                                 \n",
      " conv2d_15 (Conv2D)          (None, 128, 128, 16)      448       \n",
      "                                                                 \n",
      " max_pooling2d_10 (MaxPoolin  (None, 64, 64, 16)       0         \n",
      " g2D)                                                            \n",
      "                                                                 \n",
      " conv2d_16 (Conv2D)          (None, 64, 64, 32)        4640      \n",
      "                                                                 \n",
      " max_pooling2d_11 (MaxPoolin  (None, 32, 32, 32)       0         \n",
      " g2D)                                                            \n",
      "                                                                 \n",
      " conv2d_17 (Conv2D)          (None, 32, 32, 64)        18496     \n",
      "                                                                 \n",
      " flatten_5 (Flatten)         (None, 65536)             0         \n",
      "                                                                 \n",
      " dense_10 (Dense)            (None, 128)               8388736   \n",
      "                                                                 \n",
      " dense_11 (Dense)            (None, 1)                 129       \n",
      "                                                                 \n",
      "=================================================================\n",
      "Total params: 8,412,449\n",
      "Trainable params: 8,412,449\n",
      "Non-trainable params: 0\n",
      "_________________________________________________________________\n",
      "Model: \"sequential_5\"\n",
      "_________________________________________________________________\n",
      " Layer (type)                Output Shape              Param #   \n",
      "=================================================================\n",
      " rescaling_5 (Rescaling)     (None, 128, 128, 3)       0         \n",
      "                                                                 \n",
      " conv2d_15 (Conv2D)          (None, 128, 128, 16)      448       \n",
      "                                                                 \n",
      " max_pooling2d_10 (MaxPoolin  (None, 64, 64, 16)       0         \n",
      " g2D)                                                            \n",
      "                                                                 \n",
      " conv2d_16 (Conv2D)          (None, 64, 64, 32)        4640      \n",
      "                                                                 \n",
      " max_pooling2d_11 (MaxPoolin  (None, 32, 32, 32)       0         \n",
      " g2D)                                                            \n",
      "                                                                 \n",
      " conv2d_17 (Conv2D)          (None, 32, 32, 64)        18496     \n",
      "                                                                 \n",
      " flatten_5 (Flatten)         (None, 65536)             0         \n",
      "                                                                 \n",
      " dense_10 (Dense)            (None, 128)               8388736   \n",
      "                                                                 \n",
      " dense_11 (Dense)            (None, 1)                 129       \n",
      "                                                                 \n",
      "=================================================================\n",
      "Total params: 8,412,449\n",
      "Trainable params: 8,412,449\n",
      "Non-trainable params: 0\n",
      "_________________________________________________________________\n"
     ]
    }
   ],
   "source": [
    "model = Sequential([\n",
    "  layers.experimental.preprocessing.Rescaling(1./255, input_shape=(img_height, img_width, 3)),\n",
    "  layers.Conv2D(16,3, padding='same', activation= 'relu'),\n",
    "  layers.MaxPooling2D(),\n",
    "  layers.Conv2D(32,3, padding='same', activation= 'relu'),\n",
    "  layers.MaxPooling2D(),\n",
    "  layers.Conv2D(64,3, padding='same', activation= 'relu'),\n",
    "  layers.Flatten(),\n",
    "  layers.Dense(128, activation='relu'),\n",
    "  layers.Dense(1, activation = 'sigmoid')\n",
    "])\n",
    "\n",
    "model.compile(loss = 'binary_crossentropy',\n",
    "              optimizer = optimizers.RMSprop(learning_rate= 1e-4),\n",
    "              metrics= ['accuracy'])\n",
    "\n",
    "gen_model = keras.models.clone_model(model)\n",
    "gen_model.compile(loss = 'binary_crossentropy',\n",
    "              optimizer = optimizers.RMSprop(learning_rate= 1e-4),\n",
    "              metrics= ['accuracy'])\n",
    "\n",
    "model.summary()\n",
    "gen_model.summary()"
   ],
   "metadata": {
    "collapsed": false,
    "pycharm": {
     "name": "#%%\n"
    }
   }
  },
  {
   "cell_type": "markdown",
   "metadata": {},
   "source": [
    "# Results and Discussion"
   ]
  },
  {
   "cell_type": "markdown",
   "metadata": {},
   "source": [
    "The following results were achieved ..."
   ]
  },
  {
   "cell_type": "code",
   "execution_count": 32,
   "metadata": {
    "tags": []
   },
   "outputs": [
    {
     "name": "stdout",
     "output_type": "stream",
     "text": [
      "Epoch 1/3\n",
      "33/33 [==============================] - 34s 768ms/step - loss: 0.5439 - accuracy: 0.7757 - val_loss: 0.3528 - val_accuracy: 0.8332\n",
      "Epoch 2/3\n",
      "33/33 [==============================] - 23s 690ms/step - loss: 0.3681 - accuracy: 0.8543 - val_loss: 0.2343 - val_accuracy: 0.9243\n",
      "Epoch 3/3\n",
      "33/33 [==============================] - 24s 742ms/step - loss: 0.2782 - accuracy: 0.8881 - val_loss: 0.1765 - val_accuracy: 0.9406\n",
      "First model: 81.6883192062378\n"
     ]
    }
   ],
   "source": [
    "import time\n",
    "EPOCHS = 3\n",
    "VERBOSE = 1\n",
    "\n",
    "t0 = time.time()\n",
    "\n",
    "hist = model.fit(\n",
    "  train_ds,\n",
    "  validation_data= val_ds,\n",
    "  verbose = VERBOSE,\n",
    "  epochs = EPOCHS,\n",
    ")\n",
    "\n",
    "print(\"First model:\",time.time() - t0)"
   ]
  },
  {
   "cell_type": "code",
   "execution_count": 33,
   "outputs": [
    {
     "name": "stdout",
     "output_type": "stream",
     "text": [
      "Epoch 1/3\n",
      "41/41 [==============================] - 131s 3s/step - loss: 0.4792 - accuracy: 0.7715 - val_loss: 0.7439 - val_accuracy: 0.6250\n",
      "Epoch 2/3\n",
      "41/41 [==============================] - 128s 3s/step - loss: 0.2828 - accuracy: 0.8946 - val_loss: 1.2160 - val_accuracy: 0.6250\n",
      "Epoch 3/3\n",
      "41/41 [==============================] - 125s 3s/step - loss: 0.1973 - accuracy: 0.9287 - val_loss: 0.4513 - val_accuracy: 0.7500\n",
      "Second model: 386.9350838661194\n"
     ]
    }
   ],
   "source": [
    "t0 = time.time()\n",
    "\n",
    "#gen_hist = gen_model.fit( # first model fit with unaltered data\n",
    "#  train_ds,\n",
    "#  validation_data= val_ds,\n",
    "#  verbose = VERBOSE,\n",
    "#  epochs = round(EPOCHS/2),\n",
    "#)\n",
    "\n",
    "gen_hist = gen_model.fit(\n",
    "  train_gen_ds,\n",
    "  validation_data= val_gen_ds,\n",
    "  verbose = VERBOSE,\n",
    "  epochs = round(EPOCHS),\n",
    ")\n",
    "print(\"Second model:\",time.time() - t0)"
   ],
   "metadata": {
    "collapsed": false,
    "pycharm": {
     "name": "#%%\n"
    }
   }
  },
  {
   "cell_type": "markdown",
   "metadata": {},
   "source": [
    "# Conclusions"
   ]
  },
  {
   "cell_type": "code",
   "metadata": {
    "pycharm": {
     "name": "#%%\n"
    }
   },
   "source": [
    "from IPython.core.pylabtools import figsize\n",
    "from matplotlib.pyplot import figure, subplot, plot, title, ylim, legend, grid\n",
    "\n",
    "x_axis = np.arange(len(hist.history['loss'])) + 1\n",
    "\n",
    "\n",
    "figure(figsize(13,5))\n",
    "subplot(1,2,1)\n",
    "plot(x_axis, hist.history['loss'], 'x-', label = 'training')\n",
    "plot(x_axis, hist.history['val_loss'], 'o-', label = 'validation')\n",
    "plot(x_axis, gen_hist.history['loss'], 'x-', label = 'gen training')\n",
    "plot(x_axis, gen_hist.history['val_loss'], '+-', label = 'gen validation')\n",
    "title('loss')\n",
    "ylim(0,)\n",
    "legend()\n",
    "grid()\n",
    "\n",
    "\n",
    "subplot(1,2,2)\n",
    "plot(x_axis, hist.history['accuracy'], 'x-', label = 'training')\n",
    "plot(x_axis, hist.history['val_accuracy'], 'o-', label = 'validation')\n",
    "plot(x_axis, gen_hist.history['accuracy'], '*-', label = 'gen training')\n",
    "plot(x_axis, gen_hist.history['val_accuracy'], '+-', label = 'gen validation')\n",
    "title('accuracy')\n",
    "ylim(0,1.0)\n",
    "legend()\n",
    "grid()"
   ],
   "execution_count": 34,
   "outputs": [
    {
     "data": {
      "text/plain": "<Figure size 936x360 with 2 Axes>",
      "image/png": "[encoded data removed]"
     },
     "metadata": {
      "needs_background": "light"
     },
     "output_type": "display_data"
    }
   ]
  },
  {
   "cell_type": "code",
   "execution_count": 35,
   "outputs": [
    {
     "name": "stdout",
     "output_type": "stream",
     "text": [
      "Train Loss =  17.646026611328125 %\n",
      "Train Accuracy =  94.05561089515686 %\n",
      "Generated data Train Loss =  45.13159692287445 %\n",
      "Generated data Train Accuracy =  75.0 %\n"
     ]
    }
   ],
   "source": [
    "print(\"Train Loss = \", 100 * (hist.history['val_loss'][EPOCHS - 1]), \"%\")\n",
    "print(\"Train Accuracy = \", 100 * (hist.history['val_accuracy'][EPOCHS -1]),\"%\")\n",
    "\n",
    "print(\"Generated data Train Loss = \", 100 * (gen_hist.history['val_loss'][EPOCHS -1]), \"%\")\n",
    "print(\"Generated data Train Accuracy = \", 100 * (gen_hist.history['val_accuracy'][EPOCHS -1]),\"%\")"
   ],
   "metadata": {
    "collapsed": false,
    "pycharm": {
     "name": "#%%\n"
    }
   }
  },
  {
   "cell_type": "code",
   "source": [
    "results = model.evaluate(test_ds,verbose=VERBOSE)\n",
    "print(\"Model 1 test acc:\", 100 * results[1])\n",
    "\n",
    "results = gen_model.evaluate(test_ds,verbose=VERBOSE)\n",
    "print(\"Model 2 test acc:\", 100 * results[1])"
   ],
   "metadata": {
    "collapsed": false,
    "pycharm": {
     "name": "#%%\n"
    }
   },
   "execution_count": 36,
   "outputs": [
    {
     "name": "stdout",
     "output_type": "stream",
     "text": [
      "5/5 [==============================] - 2s 152ms/step - loss: 0.4416 - accuracy: 0.7676\n",
      "Model 1 test acc: 76.76281929016113\n",
      "5/5 [==============================] - 2s 149ms/step - loss: 0.3783 - accuracy: 0.8349\n",
      "Model 2 test acc: 83.49359035491943\n"
     ]
    }
   ]
  }
 ],
 "metadata": {
  "kernelspec": {
   "display_name": "Python 3 (ipykernel)",
   "language": "python",
   "name": "python3"
  },
  "language_info": {
   "codemirror_mode": {
    "name": "ipython",
    "version": 3
   },
   "file_extension": ".py",
   "mimetype": "text/x-python",
   "name": "python",
   "nbconvert_exporter": "python",
   "pygments_lexer": "ipython3",
   "version": "3.9.7"
  },
  "toc": {
   "base_numbering": 1,
   "nav_menu": {},
   "number_sections": true,
   "sideBar": true,
   "skip_h1_title": false,
   "title_cell": "Table of Contents",
   "title_sidebar": "Contents",
   "toc_cell": true,
   "toc_position": {},
   "toc_section_display": true,
   "toc_window_display": false
  }
 },
 "nbformat": 4,
 "nbformat_minor": 4
}