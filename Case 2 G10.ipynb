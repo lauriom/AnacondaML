{
 "cells": [
  {
   "cell_type": "markdown",
   "metadata": {},
   "source": [
    "# Case 2.\n",
    "Lauri Marjanen, Jesse Jyrälä Team 10<br>\n",
    "Neural Networks for Machine Learning Applications<br>\n",
    "[Helsinki Metropolia University of Applied Sciences](http://www.metropolia.fi/en/)<br>"
   ]
  },
  {
   "cell_type": "code",
   "execution_count": 228,
   "metadata": {},
   "outputs": [
    {
     "name": "stdout",
     "output_type": "stream",
     "text": [
      "Populating the interactive namespace from numpy and matplotlib\n",
      "tensorflow 2.7.0\n"
     ]
    },
    {
     "name": "stderr",
     "output_type": "stream",
     "text": [
      "C:\\ProgramData\\Anaconda3\\envs\\Anaconda ML\\lib\\site-packages\\IPython\\core\\magics\\pylab.py:159: UserWarning: pylab import has clobbered these variables: ['copy']\n",
      "`%matplotlib` prevents importing * from pylab and numpy\n",
      "  warn(\"pylab import has clobbered these variables: %s\"  % clobbered +\n"
     ]
    }
   ],
   "source": [
    "import copy\n",
    "%pylab inline\n",
    "import os\n",
    "import tensorflow as tf\n",
    "import numpy as np\n",
    "from tensorflow import keras\n",
    "from tensorflow.keras import layers, models, optimizers\n",
    "from tensorflow.keras.models import Sequential\n",
    "from tensorflow.keras.preprocessing.image import ImageDataGenerator\n",
    "\n",
    "print(\"tensorflow\", tf.__version__)"
   ]
  },
  {
   "cell_type": "markdown",
   "metadata": {},
   "source": [
    "# Background"
   ]
  },
  {
   "cell_type": "markdown",
   "metadata": {},
   "source": [
    "The aim of this Notebook is to learn about concolutional2d neural networks. We wanted to understand basic functionalitys and capabilitys of Conv2d networks and after that we learned how to use pretrained models from keras.applications to make our training easier."
   ]
  },
  {
   "cell_type": "markdown",
   "metadata": {},
   "source": [
    "# Data"
   ]
  },
  {
   "cell_type": "markdown",
   "metadata": {
    "collapsed": false,
    "pycharm": {
     "name": "#%% md\n"
    }
   },
   "source": [
    "Different data processing methods attempted:\n",
    "set image color = grayscale to change image dim from 128*128*3 to 128*128*1, did not help accuracy"
   ]
  },
  {
   "cell_type": "code",
   "execution_count": 229,
   "metadata": {
    "collapsed": false,
    "pycharm": {
     "name": "#%%\n"
    }
   },
   "outputs": [
    {
     "name": "stdout",
     "output_type": "stream",
     "text": [
      "Found 5216 files belonging to 2 classes.\n",
      "Using 3652 files for training.\n",
      "Found 5216 files belonging to 2 classes.\n",
      "Using 1564 files for validation.\n"
     ]
    }
   ],
   "source": [
    "batch_size = 128\n",
    "img_height = 128\n",
    "img_width = 128\n",
    "\n",
    "curDir = os.getcwd()\n",
    "train_dir = curDir + '/input/train' # we merged all datasets into one folder\n",
    "\n",
    "# Training dataset\n",
    "train_ds = tf.keras.preprocessing.image_dataset_from_directory(\n",
    "  train_dir,\n",
    "  validation_split = 0.3,\n",
    "  subset = \"training\",\n",
    "  seed = 123,\n",
    "  image_size = (img_height, img_width),\n",
    "  batch_size = batch_size)\n",
    "\n",
    "\n",
    "# Validation dataset\n",
    "test_ds = tf.keras.preprocessing.image_dataset_from_directory(\n",
    "  train_dir,\n",
    "  validation_split = 0.3,\n",
    "  subset = \"validation\", # Only used for testing\n",
    "  seed = 123,\n",
    "  image_size = (img_height, img_width),\n",
    "  batch_size = batch_size)\n"
   ]
  },
  {
   "cell_type": "markdown",
   "metadata": {},
   "source": [
    "First we started out using a classic model with no modifications to data which which yielded excellent results, then we wanted to try out augmenting the data. For this case light augmentation seemed like a good idea as chest xrays are very similar to each other. augmenting the data increased the test accuracy results slightly. "
   ]
  },
  {
   "cell_type": "code",
   "execution_count": 230,
   "metadata": {
    "collapsed": false,
    "pycharm": {
     "name": "#%%\n"
    }
   },
   "outputs": [
    {
     "name": "stdout",
     "output_type": "stream",
     "text": [
      "Found 5216 images belonging to 2 classes.\n"
     ]
    }
   ],
   "source": [
    "datagen = ImageDataGenerator( # Usually xray machines force you to stand still in a specific position,\n",
    "                              # so it does not make sense for the data to be augmented too much\n",
    "  width_shift_range=0.01,\n",
    "  height_shift_range=0.01,\n",
    "  shear_range=0.01,\n",
    "  zoom_range=0.01,\n",
    "  fill_mode='nearest',\n",
    ")\n",
    "train_gen_ds = datagen.flow_from_directory(train_dir, class_mode='binary',\n",
    "                                         target_size = (img_height, img_width),\n",
    "                                         batch_size = batch_size)"
   ]
  },
  {
   "cell_type": "code",
   "execution_count": 231,
   "metadata": {
    "collapsed": false,
    "pycharm": {
     "name": "#%%\n"
    }
   },
   "outputs": [],
   "source": [
    "AUTOTUNE = tf.data.experimental.AUTOTUNE\n",
    "train_ds = train_ds.cache().shuffle(1000).prefetch(buffer_size=AUTOTUNE)"
   ]
  },
  {
   "cell_type": "markdown",
   "metadata": {},
   "source": [
    "# Model and training"
   ]
  },
  {
   "cell_type": "markdown",
   "metadata": {},
   "source": [
    "We made 4 different models. First is model that is just simple conv2d network without further datamanipulation or augmentation, second is gen_model that is the same model but has data augmentation before the model, third is pre_model that has a pretrained transfermodel without data augmentation and lastly pre_gen_model that has pretrained transfer model and data augmentation."
   ]
  },
  {
   "cell_type": "markdown",
   "metadata": {},
   "source": [
    "Basic conv2d model consist of three layers of conv2d and maxpooling2d followed by flatten, dense layer and sigmoid output layer. We tried alot of different variations with layers but found out simple model with just con2d and maxpooling to work best. We also needed to flatten before the last dense layer."
   ]
  },
  {
   "cell_type": "code",
   "execution_count": 232,
   "metadata": {
    "collapsed": false,
    "pycharm": {
     "name": "#%%\n"
    }
   },
   "outputs": [
    {
     "name": "stdout",
     "output_type": "stream",
     "text": [
      "Model: \"sequential_13\"\n",
      "_________________________________________________________________\n",
      " Layer (type)                Output Shape              Param #   \n",
      "=================================================================\n",
      " rescaling_13 (Rescaling)    (None, 128, 128, 3)       0         \n",
      "                                                                 \n",
      " conv2d_1073 (Conv2D)        (None, 128, 128, 16)      448       \n",
      "                                                                 \n",
      " max_pooling2d_70 (MaxPoolin  (None, 64, 64, 16)       0         \n",
      " g2D)                                                            \n",
      "                                                                 \n",
      " conv2d_1074 (Conv2D)        (None, 64, 64, 32)        4640      \n",
      "                                                                 \n",
      " max_pooling2d_71 (MaxPoolin  (None, 32, 32, 32)       0         \n",
      " g2D)                                                            \n",
      "                                                                 \n",
      " conv2d_1075 (Conv2D)        (None, 32, 32, 64)        18496     \n",
      "                                                                 \n",
      " flatten_13 (Flatten)        (None, 65536)             0         \n",
      "                                                                 \n",
      " dense_46 (Dense)            (None, 128)               8388736   \n",
      "                                                                 \n",
      " dense_47 (Dense)            (None, 1)                 129       \n",
      "                                                                 \n",
      "=================================================================\n",
      "Total params: 8,412,449\n",
      "Trainable params: 8,412,449\n",
      "Non-trainable params: 0\n",
      "_________________________________________________________________\n"
     ]
    }
   ],
   "source": [
    "model = Sequential([\n",
    "  layers.experimental.preprocessing.Rescaling(1./255, input_shape=(img_height, img_width, 3)),\n",
    "  layers.Conv2D(16,3, padding='same', activation= 'relu'),\n",
    "  layers.MaxPooling2D(),\n",
    "  layers.Conv2D(32,3, padding='same', activation= 'relu'),\n",
    "  layers.MaxPooling2D(),\n",
    "  layers.Conv2D(64,3, padding='same', activation= 'relu'),\n",
    "  layers.Flatten(),\n",
    "  layers.Dense(128, activation='relu'),\n",
    "  layers.Dense(1, activation = 'sigmoid')\n",
    "])\n",
    "\n",
    "model.compile(loss = 'binary_crossentropy',\n",
    "              optimizer = optimizers.RMSprop(learning_rate= 1e-4),\n",
    "              metrics= ['accuracy'])\n",
    "\n",
    "model.summary()"
   ]
  },
  {
   "cell_type": "code",
   "execution_count": 233,
   "metadata": {
    "collapsed": false,
    "pycharm": {
     "name": "#%%\n"
    }
   },
   "outputs": [
    {
     "name": "stdout",
     "output_type": "stream",
     "text": [
      "Model: \"sequential_13\"\n",
      "_________________________________________________________________\n",
      " Layer (type)                Output Shape              Param #   \n",
      "=================================================================\n",
      " rescaling_13 (Rescaling)    (None, 128, 128, 3)       0         \n",
      "                                                                 \n",
      " conv2d_1073 (Conv2D)        (None, 128, 128, 16)      448       \n",
      "                                                                 \n",
      " max_pooling2d_70 (MaxPoolin  (None, 64, 64, 16)       0         \n",
      " g2D)                                                            \n",
      "                                                                 \n",
      " conv2d_1074 (Conv2D)        (None, 64, 64, 32)        4640      \n",
      "                                                                 \n",
      " max_pooling2d_71 (MaxPoolin  (None, 32, 32, 32)       0         \n",
      " g2D)                                                            \n",
      "                                                                 \n",
      " conv2d_1075 (Conv2D)        (None, 32, 32, 64)        18496     \n",
      "                                                                 \n",
      " flatten_13 (Flatten)        (None, 65536)             0         \n",
      "                                                                 \n",
      " dense_46 (Dense)            (None, 128)               8388736   \n",
      "                                                                 \n",
      " dense_47 (Dense)            (None, 1)                 129       \n",
      "                                                                 \n",
      "=================================================================\n",
      "Total params: 8,412,449\n",
      "Trainable params: 8,412,449\n",
      "Non-trainable params: 0\n",
      "_________________________________________________________________\n"
     ]
    }
   ],
   "source": [
    "gen_model = keras.models.clone_model(model)\n",
    "gen_model.compile(loss = 'binary_crossentropy',\n",
    "              optimizer = optimizers.RMSprop(learning_rate= 1e-4),\n",
    "              metrics= ['accuracy'])\n",
    "gen_model.summary()"
   ]
  },
  {
   "cell_type": "markdown",
   "metadata": {},
   "source": [
    "We tried to find pretrained model that worked best with our usecase. With first a google search what are the best pretrained models for our case we got a list of ones that are commonly used. We started testing the ones on that list to find out what is the best model for us. With all we used Imagenet as weights and had a very simple and few layer child model. First we tried some from the resnet family. ResNet50 and ResNet101 gave us similiar results but ResNet50 was alot faster. After that we tried VGG16 and VGG19. Those models werent too good for our case and gave us worst results compared to ResNets and also took little longer. They also require more memory and are alot bigger sized models. Lastly we tried Inception family models. ResNet50 seemed to work best for our model. Running augmented data with pretrained model does not seem to produce good results."
   ]
  },
  {
   "cell_type": "code",
   "execution_count": 234,
   "metadata": {
    "collapsed": false,
    "pycharm": {
     "name": "#%%\n"
    }
   },
   "outputs": [
    {
     "name": "stdout",
     "output_type": "stream",
     "text": [
      "Model: \"model_20\"\n",
      "_________________________________________________________________\n",
      " Layer (type)                Output Shape              Param #   \n",
      "=================================================================\n",
      " input_42 (InputLayer)       [(None, 128, 128, 3)]     0         \n",
      "                                                                 \n",
      " tf.__operators__.getitem_15  (None, 128, 128, 3)      0         \n",
      "  (SlicingOpLambda)                                              \n",
      "                                                                 \n",
      " tf.nn.bias_add_15 (TFOpLamb  (None, 128, 128, 3)      0         \n",
      " da)                                                             \n",
      "                                                                 \n",
      " resnet50 (Functional)       (None, 4, 4, 2048)        23587712  \n",
      "                                                                 \n",
      " global_average_pooling2d_20  (None, 2048)             0         \n",
      "  (GlobalAveragePooling2D)                                       \n",
      "                                                                 \n",
      " dropout_20 (Dropout)        (None, 2048)              0         \n",
      "                                                                 \n",
      " dense_48 (Dense)            (None, 1)                 2049      \n",
      "                                                                 \n",
      "=================================================================\n",
      "Total params: 23,589,761\n",
      "Trainable params: 2,049\n",
      "Non-trainable params: 23,587,712\n",
      "_________________________________________________________________\n"
     ]
    }
   ],
   "source": [
    "preprocess_input = tf.keras.applications.resnet.preprocess_input\n",
    "base_model = tf.keras.applications.ResNet50(input_shape=(img_width,img_height,3),\n",
    "                                               include_top=False,\n",
    "                                               weights='imagenet')\n",
    "\n",
    "base_model.trainable = False\n",
    "global_average_layer = tf.keras.layers.GlobalAveragePooling2D()\n",
    "prediction_layer = tf.keras.layers.Dense(1)\n",
    "#Modeling the child\n",
    "\n",
    "inputs = tf.keras.Input(shape = (img_width, img_height,3))\n",
    "holder = preprocess_input(inputs)\n",
    "holder = base_model(holder, training = False)\n",
    "holder = global_average_layer(holder)\n",
    "holder = tf.keras.layers.Dropout(0.2)(holder)\n",
    "outputs = prediction_layer(holder)\n",
    "pre_model = tf.keras.Model(inputs, outputs)\n",
    "\n",
    "pre_model.compile(optimizer=tf.keras.optimizers.Adam(learning_rate = 0.0001),\n",
    "              loss=tf.keras.losses.BinaryCrossentropy(from_logits = True),\n",
    "              metrics=['accuracy'])\n",
    "\n",
    "\n",
    "pre_model.summary()"
   ]
  },
  {
   "cell_type": "code",
   "execution_count": 235,
   "metadata": {
    "collapsed": false,
    "pycharm": {
     "name": "#%%\n"
    }
   },
   "outputs": [
    {
     "name": "stderr",
     "output_type": "stream",
     "text": [
      "C:\\ProgramData\\Anaconda3\\envs\\Anaconda ML\\lib\\site-packages\\keras\\engine\\functional.py:1410: CustomMaskWarning: Custom mask layers require a config and must override get_config. When loading, the custom mask layer must be passed to the custom_objects argument.\n",
      "  layer_config = serialize_layer_fn(layer)\n"
     ]
    },
    {
     "name": "stdout",
     "output_type": "stream",
     "text": [
      "Model: \"model_20\"\n",
      "_________________________________________________________________\n",
      " Layer (type)                Output Shape              Param #   \n",
      "=================================================================\n",
      " input_42 (InputLayer)       [(None, 128, 128, 3)]     0         \n",
      "                                                                 \n",
      " tf.__operators__.getitem_15  (None, 128, 128, 3)      0         \n",
      "  (SlicingOpLambda)                                              \n",
      "                                                                 \n",
      " tf.nn.bias_add_15 (TFOpLamb  (None, 128, 128, 3)      0         \n",
      " da)                                                             \n",
      "                                                                 \n",
      " resnet50 (Functional)       (None, 4, 4, 2048)        23587712  \n",
      "                                                                 \n",
      " global_average_pooling2d_20  (None, 2048)             0         \n",
      "  (GlobalAveragePooling2D)                                       \n",
      "                                                                 \n",
      " dropout_20 (Dropout)        (None, 2048)              0         \n",
      "                                                                 \n",
      " dense_48 (Dense)            (None, 1)                 2049      \n",
      "                                                                 \n",
      "=================================================================\n",
      "Total params: 23,589,761\n",
      "Trainable params: 2,049\n",
      "Non-trainable params: 23,587,712\n",
      "_________________________________________________________________\n"
     ]
    }
   ],
   "source": [
    "pre_gen_model = keras.models.clone_model(pre_model)\n",
    "pre_gen_model.compile(loss = 'binary_crossentropy',\n",
    "              optimizer = optimizers.RMSprop(learning_rate= 1e-4),\n",
    "              metrics= ['accuracy'])\n",
    "\n",
    "pre_gen_model.summary()"
   ]
  },
  {
   "cell_type": "code",
   "execution_count": 236,
   "metadata": {
    "collapsed": false,
    "pycharm": {
     "name": "#%%\n"
    }
   },
   "outputs": [],
   "source": [
    "import time\n",
    "EPOCHS = 4\n",
    "VERBOSE = 0"
   ]
  },
  {
   "cell_type": "code",
   "execution_count": 237,
   "metadata": {
    "tags": []
   },
   "outputs": [
    {
     "name": "stdout",
     "output_type": "stream",
     "text": [
      "First model training time: 94.53462815284729\n"
     ]
    }
   ],
   "source": [
    "t0 = time.time()\n",
    "\n",
    "hist = model.fit(\n",
    "  train_ds,\n",
    "  #validation_data= val_ds,\n",
    "  verbose = VERBOSE,\n",
    "  epochs = EPOCHS,\n",
    ")\n",
    "\n",
    "print(\"First model training time:\",time.time() - t0) # around 25 secs per epoch"
   ]
  },
  {
   "cell_type": "code",
   "execution_count": 238,
   "metadata": {
    "collapsed": false,
    "pycharm": {
     "name": "#%%\n"
    }
   },
   "outputs": [
    {
     "name": "stdout",
     "output_type": "stream",
     "text": [
      "Second model training time: 504.2673280239105\n"
     ]
    }
   ],
   "source": [
    "t0 = time.time()\n",
    "\n",
    "gen_hist = gen_model.fit(\n",
    "  train_gen_ds,\n",
    "  #validation_data= val_gen_ds,\n",
    "  verbose = VERBOSE,\n",
    "  epochs = round(EPOCHS),\n",
    ")\n",
    "print(\"Second model training time:\",time.time() - t0) # around 125 secs per epoch"
   ]
  },
  {
   "cell_type": "code",
   "execution_count": 239,
   "metadata": {
    "collapsed": false,
    "pycharm": {
     "name": "#%%\n"
    }
   },
   "outputs": [
    {
     "name": "stdout",
     "output_type": "stream",
     "text": [
      "Third model training time: 228.90503478050232\n"
     ]
    }
   ],
   "source": [
    "t0 = time.time()\n",
    "\n",
    "pre_hist = pre_model.fit(\n",
    "  train_ds,\n",
    "  #validation_data= val_ds,\n",
    "  verbose = VERBOSE,\n",
    "  epochs = round(EPOCHS),\n",
    ")\n",
    "print(\"Third model training time:\",time.time() - t0) # around 60 secs per epoch"
   ]
  },
  {
   "cell_type": "code",
   "execution_count": 240,
   "metadata": {
    "collapsed": false,
    "pycharm": {
     "name": "#%%\n"
    }
   },
   "outputs": [
    {
     "name": "stdout",
     "output_type": "stream",
     "text": [
      "Fourth model training time: 736.1746017932892\n"
     ]
    }
   ],
   "source": [
    "t0 = time.time()\n",
    "\n",
    "pre_gen_hist = pre_gen_model.fit(\n",
    "  train_gen_ds,\n",
    "  #validation_data= val_gen_ds,\n",
    "  verbose = VERBOSE,\n",
    "  epochs = round(EPOCHS),\n",
    ")\n",
    "print(\"Fourth model training time:\",time.time() - t0) # around 106 secs per epoch"
   ]
  },
  {
   "cell_type": "markdown",
   "metadata": {},
   "source": [
    "# Results and Discussion"
   ]
  },
  {
   "cell_type": "markdown",
   "metadata": {},
   "source": [
    "Here we look at the results."
   ]
  },
  {
   "cell_type": "code",
   "execution_count": 241,
   "metadata": {
    "pycharm": {
     "name": "#%%\n"
    }
   },
   "outputs": [
    {
     "data": {
      "image/png": "[encoded data removed]",
      "text/plain": [
       "<Figure size 936x360 with 2 Axes>"
      ]
     },
     "metadata": {
      "needs_background": "light"
     },
     "output_type": "display_data"
    }
   ],
   "source": [
    "from IPython.core.pylabtools import figsize\n",
    "from matplotlib.pyplot import figure, subplot, plot, title, ylim, legend, grid\n",
    "\n",
    "x_axis = np.arange(len(hist.history['loss'])) + 1\n",
    "\n",
    "\n",
    "figure(figsize(13,5))\n",
    "subplot(1,2,1)\n",
    "plot(x_axis, hist.history['loss'], 'x-', label = 'training')\n",
    "plot(x_axis, pre_hist.history['loss'], 'o-', label = 'pre training')\n",
    "plot(x_axis, gen_hist.history['loss'], '*-', label = 'gen training')\n",
    "plot(x_axis, pre_gen_hist.history['loss'], '+-', label = 'pre gen training')\n",
    "\n",
    "title('loss')\n",
    "ylim(0,)\n",
    "legend()\n",
    "grid()\n",
    "\n",
    "\n",
    "subplot(1,2,2)\n",
    "plot(x_axis, hist.history['accuracy'], 'x-', label = 'training')\n",
    "plot(x_axis, pre_hist.history['accuracy'], 'o-', label = 'pre raining')\n",
    "plot(x_axis, gen_hist.history['accuracy'], '*-', label = 'gen training')\n",
    "plot(x_axis, pre_gen_hist.history['accuracy'], '+-', label = 'pre gen training')\n",
    "\n",
    "title('accuracy')\n",
    "ylim(0,1.0)\n",
    "legend()\n",
    "grid()"
   ]
  },
  {
   "cell_type": "code",
   "execution_count": null,
   "metadata": {},
   "outputs": [],
   "source": [
    "#WORK IN PROGRESS CONFUSION MATRIX\n",
    "\n",
    "#Ongelmana on ku n me ei käytetä suoraan sitä label jakamista nii ne labelit pitää käsin ottaa sieltä test setistä ulos enkä saa noita kaikkia batcheja suoraan listana ulos oikein millään. En oo myöskään varma menikö toi pred datan haku oikein.\n",
    "\n",
    "from sklearn.metrics import confusion_matrix\n",
    "\n",
    "labelsList = list()\n",
    "\n",
    "# print(len(test_dataset))\n",
    "\n",
    "for labels in test_dataset.take(len(test_dataset)):\n",
    "    x = labels[1].numpy().tolist()\n",
    "    labelsList.append(list(x))\n",
    "#     print(labels[1])\n",
    "\n",
    "print(labelsList)\n",
    "\n",
    "final = list()\n",
    "for batch in labelList:\n",
    "    final.append(batch)\n",
    "# print(pred)\n",
    "\n",
    "cm = confusion_matrix(final, pred)"
   ]
  },
  {
   "cell_type": "code",
   "execution_count": null,
   "metadata": {},
   "outputs": [],
   "source": [
    "pred = model.predict(test_dataset)\n",
    "pred = (pred > 0.5)"
   ]
  },
  {
   "cell_type": "code",
   "execution_count": 242,
   "metadata": {
    "collapsed": false,
    "pycharm": {
     "name": "#%%\n"
    }
   },
   "outputs": [
    {
     "name": "stdout",
     "output_type": "stream",
     "text": [
      "Model 1 test acc: 94.62915658950806\n",
      "Model 2 test acc: 95.78005075454712\n",
      "Model 3 test acc: 92.45524406433105\n",
      "Model 4 test acc: 75.63938498497009\n"
     ]
    }
   ],
   "source": [
    "results = model.evaluate(test_ds,verbose=VERBOSE)\n",
    "print(\"Model 1 test acc:\", 100 * results[1])\n",
    "\n",
    "results = gen_model.evaluate(test_ds,verbose=VERBOSE)\n",
    "print(\"Model 2 test acc:\", 100 * results[1])\n",
    "\n",
    "results = pre_model.evaluate(test_ds,verbose=VERBOSE)\n",
    "print(\"Model 3 test acc:\", 100 * results[1])\n",
    "\n",
    "results = pre_gen_model.evaluate(test_ds,verbose=VERBOSE)\n",
    "print(\"Model 4 test acc:\", 100 * results[1])"
   ]
  },
  {
   "cell_type": "markdown",
   "metadata": {},
   "source": [
    "# Conclusions"
   ]
  },
  {
   "cell_type": "markdown",
   "metadata": {
    "collapsed": false,
    "pycharm": {
     "name": "#%% md\n"
    }
   },
   "source": [
    "From our 4 models we can say a simple conv2d network seems to work best for our usecase. That is propably due to the very refined and simple nature of the data that we are analaysing in this case. The format of chest Xray is very standard so there isnt much other difference in the pictures than the actual desease we want to find from the pictures. That is propably why using the pretrained models actually seem to have weaker results since they are propably been made with alot more complicated data and might indruduce problem from that.\n",
    "\n",
    "Even tho the data is very clean and comes from standard format the small augmentation of the data prepares the model for small changes in the picture like size of the torso, small rotation of torso, how zoomed in teh picture was taken and so on. \n",
    "\n",
    "Problems we had:\n",
    "1. Amount of loss might be too high. We didn't find ways to make it go down from approximately 10%.\n",
    "2. For some reason adding validation data didn't seem to help much, and in some runs even made worse the results for test data.\n",
    "3. Using data augmentation with transfer models completely ruined the result."
   ]
  },
  {
   "cell_type": "markdown",
   "metadata": {
    "collapsed": false,
    "pycharm": {
     "name": "#%% md\n"
    }
   },
   "source": []
  },
  {
   "cell_type": "markdown",
   "metadata": {
    "collapsed": false,
    "pycharm": {
     "name": "#%% md\n"
    }
   },
   "source": []
  }
 ],
 "metadata": {
  "kernelspec": {
   "display_name": "Python 3 (ipykernel)",
   "language": "python",
   "name": "python3"
  },
  "language_info": {
   "codemirror_mode": {
    "name": "ipython",
    "version": 3
   },
   "file_extension": ".py",
   "mimetype": "text/x-python",
   "name": "python",
   "nbconvert_exporter": "python",
   "pygments_lexer": "ipython3",
   "version": "3.9.7"
  },
  "toc": {
   "base_numbering": 1,
   "nav_menu": {},
   "number_sections": true,
   "sideBar": true,
   "skip_h1_title": false,
   "title_cell": "Table of Contents",
   "title_sidebar": "Contents",
   "toc_cell": true,
   "toc_position": {},
   "toc_section_display": true,
   "toc_window_display": false
  }
 },
 "nbformat": 4,
 "nbformat_minor": 4
}
