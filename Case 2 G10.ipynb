{
 "cells": [
  {
   "cell_type": "markdown",
   "metadata": {},
   "source": [
    "# Case X.\n",
    "Lauri Marjanen, Team 10<br>\n",
    "Neural Networks for Machine Learning Applications<br>\n",
    "[Helsinki Metropolia University of Applied Sciences](http://www.metropolia.fi/en/)<br>"
   ]
  },
  {
   "cell_type": "code",
   "execution_count": 65,
   "metadata": {},
   "outputs": [
    {
     "name": "stdout",
     "output_type": "stream",
     "text": [
      "Populating the interactive namespace from numpy and matplotlib\n",
      "tensorflow 2.7.0\n"
     ]
    },
    {
     "name": "stderr",
     "output_type": "stream",
     "text": [
      "C:\\ProgramData\\Anaconda3\\envs\\Anaconda ML\\lib\\site-packages\\IPython\\core\\magics\\pylab.py:159: UserWarning: pylab import has clobbered these variables: ['hist']\n",
      "`%matplotlib` prevents importing * from pylab and numpy\n",
      "  warn(\"pylab import has clobbered these variables: %s\"  % clobbered +\n"
     ]
    }
   ],
   "source": [
    "import copy\n",
    "%pylab inline\n",
    "import os\n",
    "import tensorflow as tf\n",
    "import numpy as np\n",
    "import time\n",
    "from tensorflow import keras\n",
    "from tensorflow.keras import layers, models, optimizers\n",
    "from tensorflow.keras.models import Sequential\n",
    "from tensorflow.keras.preprocessing.image import ImageDataGenerator\n",
    "\n",
    "print(\"tensorflow\", tf.__version__)"
   ]
  },
  {
   "cell_type": "markdown",
   "metadata": {},
   "source": [
    "# Background"
   ]
  },
  {
   "cell_type": "markdown",
   "metadata": {},
   "source": [
    "The aim of this Notebook is ..."
   ]
  },
  {
   "cell_type": "markdown",
   "metadata": {},
   "source": [
    "# Data"
   ]
  },
  {
   "cell_type": "code",
   "execution_count": 66,
   "outputs": [
    {
     "name": "stdout",
     "output_type": "stream",
     "text": [
      "Found 5216 files belonging to 2 classes.\n",
      "Using 4173 files for training.\n",
      "Found 5216 files belonging to 2 classes.\n",
      "Using 1043 files for validation.\n",
      "Found 624 files belonging to 2 classes.\n"
     ]
    }
   ],
   "source": [
    "batch_size = 128\n",
    "img_height = 128\n",
    "img_width = 128\n",
    "\n",
    "curDir = os.getcwd()\n",
    "train_dir = curDir + '/input/train'\n",
    "test_dir = curDir + '/input/test'\n",
    "val_dir = curDir + '/input/val'\n",
    "\n",
    "# Training dataset\n",
    "train_ds = tf.keras.preprocessing.image_dataset_from_directory(\n",
    "  train_dir,\n",
    "  validation_split = 0.2,\n",
    "  subset = \"training\",\n",
    "  seed = 123,\n",
    "  image_size = (img_height, img_width),\n",
    "  batch_size = batch_size)\n",
    "\n",
    "\n",
    "# Validation dataset\n",
    "val_ds = tf.keras.preprocessing.image_dataset_from_directory(\n",
    "  train_dir,\n",
    "  validation_split = 0.2,\n",
    "  subset = \"validation\",\n",
    "  seed = 123,\n",
    "  image_size = (img_height, img_width),\n",
    "  batch_size = batch_size)\n",
    "\n",
    "test_ds = tf.keras.preprocessing.image_dataset_from_directory(\n",
    "  test_dir,\n",
    "  image_size = (img_height, img_width),\n",
    "  batch_size = batch_size)\n"
   ],
   "metadata": {
    "collapsed": false,
    "pycharm": {
     "name": "#%%\n"
    }
   }
  },
  {
   "cell_type": "code",
   "execution_count": 67,
   "outputs": [
    {
     "name": "stdout",
     "output_type": "stream",
     "text": [
      "Found 5216 images belonging to 2 classes.\n",
      "Found 16 images belonging to 2 classes.\n"
     ]
    }
   ],
   "source": [
    "datagen = ImageDataGenerator(\n",
    "  width_shift_range=0.01,\n",
    "  height_shift_range=0.01,\n",
    "  shear_range=0.01,\n",
    "  zoom_range=0.01,\n",
    "  horizontal_flip=True,\n",
    "  fill_mode='nearest',\n",
    ")\n",
    "train_gen_ds = datagen.flow_from_directory(train_dir, target_size=(img_width,img_height), batch_size=batch_size,class_mode='binary')\n",
    "val_gen_ds = datagen.flow_from_directory(val_dir, target_size=(img_width,img_height), batch_size=batch_size,class_mode='binary')"
   ],
   "metadata": {
    "collapsed": false,
    "pycharm": {
     "name": "#%%\n"
    }
   }
  },
  {
   "cell_type": "code",
   "execution_count": 68,
   "outputs": [],
   "source": [
    "AUTOTUNE = tf.data.experimental.AUTOTUNE\n",
    "train_ds = train_ds.cache().shuffle(1000).prefetch(buffer_size=AUTOTUNE)\n",
    "val_ds = val_ds.cache().prefetch(buffer_size=AUTOTUNE)"
   ],
   "metadata": {
    "collapsed": false,
    "pycharm": {
     "name": "#%%\n"
    }
   }
  },
  {
   "cell_type": "markdown",
   "metadata": {},
   "source": [
    "# Model and training"
   ]
  },
  {
   "cell_type": "markdown",
   "metadata": {},
   "source": [
    "The following model was used ..."
   ]
  },
  {
   "cell_type": "code",
   "execution_count": 92,
   "outputs": [
    {
     "name": "stdout",
     "output_type": "stream",
     "text": [
      "Model: \"sequential_10\"\n",
      "_________________________________________________________________\n",
      " Layer (type)                Output Shape              Param #   \n",
      "=================================================================\n",
      " rescaling_10 (Rescaling)    (None, 128, 128, 3)       0         \n",
      "                                                                 \n",
      " conv2d_30 (Conv2D)          (None, 128, 128, 16)      448       \n",
      "                                                                 \n",
      " max_pooling2d_20 (MaxPoolin  (None, 64, 64, 16)       0         \n",
      " g2D)                                                            \n",
      "                                                                 \n",
      " conv2d_31 (Conv2D)          (None, 64, 64, 32)        4640      \n",
      "                                                                 \n",
      " max_pooling2d_21 (MaxPoolin  (None, 32, 32, 32)       0         \n",
      " g2D)                                                            \n",
      "                                                                 \n",
      " conv2d_32 (Conv2D)          (None, 32, 32, 64)        18496     \n",
      "                                                                 \n",
      " flatten_8 (Flatten)         (None, 65536)             0         \n",
      "                                                                 \n",
      " dense_20 (Dense)            (None, 128)               8388736   \n",
      "                                                                 \n",
      " dense_21 (Dense)            (None, 1)                 129       \n",
      "                                                                 \n",
      "=================================================================\n",
      "Total params: 8,412,449\n",
      "Trainable params: 8,412,449\n",
      "Non-trainable params: 0\n",
      "_________________________________________________________________\n",
      "Model: \"sequential_10\"\n",
      "_________________________________________________________________\n",
      " Layer (type)                Output Shape              Param #   \n",
      "=================================================================\n",
      " rescaling_10 (Rescaling)    (None, 128, 128, 3)       0         \n",
      "                                                                 \n",
      " conv2d_30 (Conv2D)          (None, 128, 128, 16)      448       \n",
      "                                                                 \n",
      " max_pooling2d_20 (MaxPoolin  (None, 64, 64, 16)       0         \n",
      " g2D)                                                            \n",
      "                                                                 \n",
      " conv2d_31 (Conv2D)          (None, 64, 64, 32)        4640      \n",
      "                                                                 \n",
      " max_pooling2d_21 (MaxPoolin  (None, 32, 32, 32)       0         \n",
      " g2D)                                                            \n",
      "                                                                 \n",
      " conv2d_32 (Conv2D)          (None, 32, 32, 64)        18496     \n",
      "                                                                 \n",
      " flatten_8 (Flatten)         (None, 65536)             0         \n",
      "                                                                 \n",
      " dense_20 (Dense)            (None, 128)               8388736   \n",
      "                                                                 \n",
      " dense_21 (Dense)            (None, 1)                 129       \n",
      "                                                                 \n",
      "=================================================================\n",
      "Total params: 8,412,449\n",
      "Trainable params: 8,412,449\n",
      "Non-trainable params: 0\n",
      "_________________________________________________________________\n"
     ]
    }
   ],
   "source": [
    "model = Sequential([\n",
    "  layers.experimental.preprocessing.Rescaling(1./255, input_shape=(img_height, img_width, 3)),\n",
    "  layers.Conv2D(16,3, padding='same', activation= 'relu'),\n",
    "  layers.MaxPooling2D(),\n",
    "  layers.Conv2D(32,3, padding='same', activation= 'relu'),\n",
    "  layers.MaxPooling2D(),\n",
    "  layers.Conv2D(64,3, padding='same', activation= 'relu'),\n",
    "  layers.Flatten(),\n",
    "  layers.Dense(128, activation='relu'),\n",
    "  layers.Dense(1, activation = 'sigmoid')\n",
    "])\n",
    "\n",
    "model.compile(loss = 'binary_crossentropy',\n",
    "              optimizer = optimizers.RMSprop(learning_rate= 1e-4),\n",
    "              metrics= ['accuracy'])\n",
    "\n",
    "gen_model = keras.models.clone_model(model)\n",
    "gen_model.compile(loss = 'binary_crossentropy',\n",
    "              optimizer = optimizers.RMSprop(learning_rate= 1e-4),\n",
    "              metrics= ['accuracy'])\n",
    "\n",
    "model.summary()\n",
    "gen_model.summary()"
   ],
   "metadata": {
    "collapsed": false,
    "pycharm": {
     "name": "#%%\n"
    }
   }
  },
  {
   "cell_type": "markdown",
   "metadata": {},
   "source": [
    "# Results and Discussion"
   ]
  },
  {
   "cell_type": "markdown",
   "metadata": {},
   "source": [
    "The following results were achieved ..."
   ]
  },
  {
   "cell_type": "code",
   "execution_count": 93,
   "metadata": {
    "tags": []
   },
   "outputs": [
    {
     "name": "stdout",
     "output_type": "stream",
     "text": [
      "Epoch 1/10\n",
      "33/33 [==============================] - 26s 728ms/step - loss: 0.4988 - accuracy: 0.7664 - val_loss: 0.3323 - val_accuracy: 0.8025\n",
      "Epoch 2/10\n",
      "33/33 [==============================] - 23s 712ms/step - loss: 0.3054 - accuracy: 0.8778 - val_loss: 0.2270 - val_accuracy: 0.9300\n",
      "Epoch 3/10\n",
      "33/33 [==============================] - 23s 707ms/step - loss: 0.2284 - accuracy: 0.9166 - val_loss: 0.1639 - val_accuracy: 0.9473\n",
      "Epoch 4/10\n",
      "33/33 [==============================] - 23s 708ms/step - loss: 0.1761 - accuracy: 0.9367 - val_loss: 0.1572 - val_accuracy: 0.9348\n",
      "Epoch 5/10\n",
      "33/33 [==============================] - 23s 709ms/step - loss: 0.1502 - accuracy: 0.9458 - val_loss: 0.0997 - val_accuracy: 0.9616\n",
      "Epoch 6/10\n",
      "33/33 [==============================] - 24s 716ms/step - loss: 0.1269 - accuracy: 0.9545 - val_loss: 0.1041 - val_accuracy: 0.9559\n",
      "Epoch 7/10\n",
      "33/33 [==============================] - 24s 723ms/step - loss: 0.1217 - accuracy: 0.9552 - val_loss: 0.0795 - val_accuracy: 0.9703\n",
      "Epoch 8/10\n",
      "33/33 [==============================] - 24s 717ms/step - loss: 0.1028 - accuracy: 0.9626 - val_loss: 0.1067 - val_accuracy: 0.9636\n",
      "Epoch 9/10\n",
      "33/33 [==============================] - 24s 717ms/step - loss: 0.1010 - accuracy: 0.9629 - val_loss: 0.0706 - val_accuracy: 0.9732\n",
      "Epoch 10/10\n",
      "33/33 [==============================] - 24s 730ms/step - loss: 0.0892 - accuracy: 0.9662 - val_loss: 0.0803 - val_accuracy: 0.9645\n",
      "First model: 238.14298582077026\n"
     ]
    }
   ],
   "source": [
    "import time\n",
    "EPOCHS = 10\n",
    "VERBOSE = 1\n",
    "\n",
    "t0 = time.time()\n",
    "\n",
    "hist = model.fit(\n",
    "  train_ds,\n",
    "  validation_data= val_ds,\n",
    "  verbose = VERBOSE,\n",
    "  epochs = EPOCHS,\n",
    ")\n",
    "\n",
    "print(\"First model:\",time.time() - t0)"
   ]
  },
  {
   "cell_type": "code",
   "execution_count": 94,
   "outputs": [
    {
     "name": "stdout",
     "output_type": "stream",
     "text": [
      "Epoch 1/5\n",
      "33/33 [==============================] - 26s 739ms/step - loss: 0.5072 - accuracy: 0.7637 - val_loss: 0.3777 - val_accuracy: 0.7852\n",
      "Epoch 2/5\n",
      "33/33 [==============================] - 24s 726ms/step - loss: 0.2976 - accuracy: 0.8843 - val_loss: 0.1983 - val_accuracy: 0.9338\n",
      "Epoch 3/5\n",
      "33/33 [==============================] - 24s 721ms/step - loss: 0.2055 - accuracy: 0.9260 - val_loss: 0.1388 - val_accuracy: 0.9463\n",
      "Epoch 4/5\n",
      "33/33 [==============================] - 24s 719ms/step - loss: 0.1689 - accuracy: 0.9408 - val_loss: 0.1041 - val_accuracy: 0.9645\n",
      "Epoch 5/5\n",
      "33/33 [==============================] - 24s 720ms/step - loss: 0.1392 - accuracy: 0.9473 - val_loss: 0.0888 - val_accuracy: 0.9655\n",
      "Epoch 1/5\n",
      "326/326 [==============================] - 142s 435ms/step - loss: 0.1408 - accuracy: 0.9452 - val_loss: 0.2297 - val_accuracy: 0.8750\n",
      "Epoch 2/5\n",
      "326/326 [==============================] - 143s 438ms/step - loss: 0.1092 - accuracy: 0.9569 - val_loss: 0.5298 - val_accuracy: 0.6875\n",
      "Epoch 3/5\n",
      "326/326 [==============================] - 143s 440ms/step - loss: 0.0888 - accuracy: 0.9659 - val_loss: 0.2930 - val_accuracy: 0.8750\n",
      "Epoch 4/5\n",
      "326/326 [==============================] - 141s 433ms/step - loss: 0.0872 - accuracy: 0.9666 - val_loss: 0.1546 - val_accuracy: 0.8750\n",
      "Epoch 5/5\n",
      "326/326 [==============================] - 142s 435ms/step - loss: 0.0749 - accuracy: 0.9732 - val_loss: 0.1630 - val_accuracy: 0.9375\n",
      "Second model: 833.5004844665527\n"
     ]
    }
   ],
   "source": [
    "t0 = time.time()\n",
    "\n",
    "gen_hist = gen_model.fit( # first model fit with unaltered data\n",
    "  train_ds,\n",
    "  validation_data= val_ds,\n",
    "  verbose = VERBOSE,\n",
    "  epochs = round(EPOCHS/2),\n",
    ")\n",
    "\n",
    "gen_hist2 = gen_model.fit(\n",
    "  train_gen_ds,\n",
    "  validation_data= val_gen_ds,\n",
    "  verbose = VERBOSE,\n",
    "  epochs = round(EPOCHS/2),\n",
    ")\n",
    "print(\"Second model:\",time.time() - t0)"
   ],
   "metadata": {
    "collapsed": false,
    "pycharm": {
     "name": "#%%\n"
    }
   }
  },
  {
   "cell_type": "markdown",
   "metadata": {},
   "source": [
    "# Conclusions"
   ]
  },
  {
   "cell_type": "code",
   "metadata": {
    "pycharm": {
     "name": "#%%\n"
    }
   },
   "source": [
    "from IPython.core.pylabtools import figsize\n",
    "from matplotlib.pyplot import figure, subplot, plot, title, ylim, legend, grid\n",
    "\n",
    "x_axis = np.arange(len(hist.history['loss'])) + 1\n",
    "\n",
    "\n",
    "figure(figsize(13,5))\n",
    "subplot(1,2,1)\n",
    "plot(x_axis, hist.history['loss'], 'x-', label = 'training')\n",
    "plot(x_axis, hist.history['val_loss'], 'o-', label = 'validation')\n",
    "#plot(x_axis, gen_hist.history['loss'], 'x-', label = 'gen training')\n",
    "#plot(x_axis, gen_hist.history['val_loss'], '+-', label = 'gen validation')\n",
    "title('loss')\n",
    "ylim(0,)\n",
    "legend()\n",
    "grid()\n",
    "\n",
    "\n",
    "subplot(1,2,2)\n",
    "plot(x_axis, hist.history['accuracy'], 'x-', label = 'training')\n",
    "plot(x_axis, hist.history['val_accuracy'], 'o-', label = 'validation')\n",
    "#plot(x_axis, gen_hist.history['accuracy'], '*-', label = 'gen training')\n",
    "#plot(x_axis, gen_hist.history['val_accuracy'], '+-', label = 'gen validation')\n",
    "title('accuracy')\n",
    "ylim(0,1.0)\n",
    "legend()\n",
    "grid()"
   ],
   "execution_count": 81,
   "outputs": [
    {
     "data": {
      "text/plain": "<Figure size 936x360 with 2 Axes>",
      "image/png": "[encoded data removed]"
     },
     "metadata": {
      "needs_background": "light"
     },
     "output_type": "display_data"
    }
   ]
  },
  {
   "cell_type": "code",
   "execution_count": 82,
   "outputs": [
    {
     "name": "stdout",
     "output_type": "stream",
     "text": [
      "Train Loss =  4.283145442605019 %\n",
      "Train Accuracy =  98.75359535217285 %\n",
      "Generated data Train Loss =  4.180019348859787 %\n",
      "Generated data Train Accuracy =  98.46596121788025 %\n"
     ]
    }
   ],
   "source": [
    "print(\"Train Loss = \", 100 * (hist.history['val_loss'][EPOCHS - 1]), \"%\")\n",
    "print(\"Train Accuracy = \", 100 * (hist.history['val_accuracy'][EPOCHS -1]),\"%\")\n",
    "\n",
    "print(\"Generated data Train Loss = \", 100 * (gen_hist.history['val_loss'][4]), \"%\")\n",
    "print(\"Generated data Train Accuracy = \", 100 * (gen_hist.history['val_accuracy'][4]),\"%\")"
   ],
   "metadata": {
    "collapsed": false,
    "pycharm": {
     "name": "#%%\n"
    }
   }
  },
  {
   "cell_type": "code",
   "source": [
    "results = model.evaluate(test_ds,verbose=VERBOSE)\n",
    "print(\"Model 1 test acc:\", 100 * results[1])\n",
    "\n",
    "results = gen_model.evaluate(test_ds,verbose=VERBOSE)\n",
    "print(\"Model 2 test acc:\", 100 * results[1])"
   ],
   "metadata": {
    "collapsed": false,
    "pycharm": {
     "name": "#%%\n"
    }
   },
   "execution_count": 95,
   "outputs": [
    {
     "name": "stdout",
     "output_type": "stream",
     "text": [
      "5/5 [==============================] - 2s 188ms/step - loss: 0.9852 - accuracy: 0.7147\n",
      "Model 1 test acc: 71.47436141967773\n",
      "5/5 [==============================] - 2s 174ms/step - loss: 0.8111 - accuracy: 0.7997\n",
      "Model 2 test acc: 79.96794581413269\n"
     ]
    }
   ]
  }
 ],
 "metadata": {
  "kernelspec": {
   "display_name": "Python 3 (ipykernel)",
   "language": "python",
   "name": "python3"
  },
  "language_info": {
   "codemirror_mode": {
    "name": "ipython",
    "version": 3
   },
   "file_extension": ".py",
   "mimetype": "text/x-python",
   "name": "python",
   "nbconvert_exporter": "python",
   "pygments_lexer": "ipython3",
   "version": "3.9.7"
  },
  "toc": {
   "base_numbering": 1,
   "nav_menu": {},
   "number_sections": true,
   "sideBar": true,
   "skip_h1_title": false,
   "title_cell": "Table of Contents",
   "title_sidebar": "Contents",
   "toc_cell": true,
   "toc_position": {},
   "toc_section_display": true,
   "toc_window_display": false
  }
 },
 "nbformat": 4,
 "nbformat_minor": 4
}